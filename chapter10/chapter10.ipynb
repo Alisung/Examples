{
 "cells": [
  {
   "cell_type": "code",
   "execution_count": 1,
   "metadata": {},
   "outputs": [
    {
     "name": "stdout",
     "output_type": "stream",
     "text": [
      "# of users: 3835\n",
      "# of products: 3588\n",
      "DescribeResult(nobs=3835, minmax=(1, 1603), mean=58.690743155149931, variance=6207.1088214350575, skewness=5.833816723404396, kurtosis=72.60364097540136)\n"
     ]
    }
   ],
   "source": [
    "# 예제 10-1\n",
    "\n",
    "import time\n",
    "from scipy import stats\n",
    "\n",
    "\n",
    "# 데이터 구조 정의\n",
    "# 사용자 ID를 키로, 상품 코드의 셋을 밸류로 갖는 딕셔너리와\n",
    "# 상품 코드를 키로, 사용자 ID의 셋을 밸류로 갖는 딕셔너리\n",
    "user_product_dic = {}\n",
    "product_user_dic = {}\n",
    "\n",
    "# 상품 코드를 키로 가지고 상품명을 밸류로 갖는 딕셔너리\n",
    "# 군집화의 내용을 확인하는 단계에서 상품명을 사용합니다.\n",
    "product_id_name_dic = {}\n",
    "\n",
    "# 파일을 읽어 위에 정의한 데이터구조를 채웁니다.\n",
    "for line in open('online_retail_utf.txt'):\n",
    "\n",
    "    # 데이터를 한 행씩 읽어서 필요한 항목을 저장합니다.\n",
    "    line_items = line.strip().split('\\t')\n",
    "    user_code = line_items[6]\n",
    "    product_id = line_items[1]\n",
    "    product_name = line_items[2]\n",
    "\n",
    "    # 사용자 ID가 없을 경우 무시합니다.\n",
    "    if len(user_code) == 0:\n",
    "        continue\n",
    "\n",
    "    # 영국에서 구매한 사용자만 고려하므로, 국가가 united kingdom이 아닌 경우엔 무시합니다.\n",
    "    country = line_items[7]\n",
    "    if country != 'United Kingdom':\n",
    "        continue\n",
    "\n",
    "    # 연도 읽을 때 에러 처리. 파일 헤더를 무시합니다.\n",
    "    try:\n",
    "        invoice_year = time.strptime(line_items[4], '%m/%d/%y %H:%M').tm_year\n",
    "\n",
    "    except ValueError:\n",
    "        continue\n",
    "\n",
    "    # 2011년에 일어난 구매가 아닌 것은 무시합니다.\n",
    "    if invoice_year != 2011:\n",
    "        continue\n",
    "\n",
    "    # 읽은 정보로 데이터 구조를 채웁니다.\n",
    "    # 상품 가짓수를 고려하므로 상품 코드를 셋으로 가지도록 하겠습니다.\n",
    "    user_product_dic.setdefault(user_code, set())\n",
    "    user_product_dic[user_code].add(product_id)\n",
    "\n",
    "    product_user_dic.setdefault(product_id, set())\n",
    "    product_user_dic[product_id].add(user_code)\n",
    "\n",
    "    product_id_name_dic[product_id] = product_name\n",
    "\n",
    "# 데이터구조를 다 채웠으므로 각 사용자들이 구매한 상품 가짓수로 리스트를 만들어봅시다.\n",
    "product_per_user_li = [len(x) for x in user_product_dic.values()]\n",
    "\n",
    "\n",
    "# 이 장에서 사용할 최종 사용자 수와 상품 가짓수를 출력해봅니다.\n",
    "print('# of users:', len(user_product_dic))\n",
    "print('# of products:', len(product_user_dic))\n",
    "\n",
    "# 각 사용자들이 구매한 상품 가짓수로 기초 통계량을 출력합니다.\n",
    "print(stats.describe(product_per_user_li))"
   ]
  },
  {
   "cell_type": "code",
   "execution_count": 2,
   "metadata": {},
   "outputs": [
    {
     "data": {
      "image/png": "[encoded data removed]",
      "text/plain": [
       "<matplotlib.figure.Figure at 0x104a7ed30>"
      ]
     },
     "metadata": {},
     "output_type": "display_data"
    }
   ],
   "source": [
    "# 예제 10-2\n",
    "\n",
    "from collections import Counter\n",
    "import matplotlib.pyplot as plt\n",
    "# 사용자가 구매한 고유 상품 가짓수를 플롯해봅니다.\n",
    "plot_data_all = Counter(product_per_user_li)\n",
    "plot_data_x = list(plot_data_all.keys())\n",
    "plot_data_y = list(plot_data_all.values())\n",
    "plt.xlabel('고유 상품 가짓수')\n",
    "plt.ylabel('사용자 수')\n",
    "plt.scatter(plot_data_x, plot_data_y, marker='+')\n",
    "plt.show()"
   ]
  },
  {
   "cell_type": "code",
   "execution_count": 2,
   "metadata": {},
   "outputs": [
    {
     "name": "stdout",
     "output_type": "stream",
     "text": [
      "# of users purchased one product:95\n",
      "# of users purchased more than 600 product:7\n",
      "# of left user:3733\n",
      "# of left items:3568\n"
     ]
    }
   ],
   "source": [
    "# 예제 10-3\n",
    "\n",
    "# 구매한 상품의 가짓수가 1인 사용자의 사용자 ID를 찾습니다.\n",
    "min_product_user_li =[k for k,v in user_product_dic.items() if len(v)==1]\n",
    "# 마찬가지로, 구매한 상품의 가짓수가 600개 이상인 사용자의 사용자 ID를 찾습니다.\n",
    "max_product_user_li =[k for k,v in user_product_dic.items() if len(v)>600]\n",
    "print(\"# of users purchased one product:%d\" % (len(min_product_user_li)))\n",
    "print(\"# of users purchased more than 600 product:%d\" % (len(max_product_user_li)))\n",
    "# 찾아낸 사용자를 군집화에 사용할 user_product_dic에서 제외합니다.\n",
    "user_product_dic = {k:v for k,v in user_product_dic.items() if len(v)>1 and len(v)<=600}\n",
    "print(\"# of left user:%d\" % (len(user_product_dic)))\n",
    "# 남아 있는 사용자가 구매한 상품에도 0에서 시작하는 고유 ID를 부여합니다.\n",
    "# 데이터셋에서 제외된 사용자가 구매한 상품은 군집화에서 사용하지 않기 때문에 이러한 처리를 해야 합니다.\n",
    "id_product_dic = {}\n",
    "for product_set_li in user_product_dic.values():\n",
    "    for x in product_set_li:\n",
    "        if x in id_product_dic:\n",
    "            product_id = id_product_dic[x]\n",
    "        else:\n",
    "            id_product_dic.setdefault(x, len(id_product_dic))\n",
    "print(\"# of left items:%d\" % (len(id_product_dic)))"
   ]
  },
  {
   "cell_type": "code",
   "execution_count": 3,
   "metadata": {
    "collapsed": true
   },
   "outputs": [
    {
     "name": "stdout",
     "output_type": "stream",
     "text": [
      "13313\n",
      "{'23328', '23103', '23393', '23407', '84978', '23491', '23398', '23399'}\n",
      "[1, 1, 1, 1, 1, 1, 1, 1, 1, 1, 1, 1, 1, 1, 1, 1, 1, 1, 1, 1, 1, 1, 1, 1, 1, 1, 1, 1, 1, 1, 1, 1, 1, 1, 1, 1, 1, 1, 1, 1, 1, 1, 1, 1, 1, 1, 1, 0, 0, 0, 0, 0, 0, 0, 0, 0, 0, 0, 0, 0, 0, 0, 0, 0, 0, 0, 0, 0, 0, 0, 0, 0, 0, 0, 0, 0, 0, 0, 0, 0, 0, 0, 0, 0, 0, 0, 0, 0, 0, 0, 0, 0, 0, 0, 0, 0, 0, 0, 0, 0, 0, 0, 0, 0, 0, 0, 0, 0, 0, 0, 0, 0, 0, 0, 0, 0, 0, 0, 0, 0, 0, 0, 0, 0, 0, 0, 0, 0, 0, 0, 0, 0, 0, 0, 0, 0, 0, 0, 0, 0, 0, 0, 0, 0, 0, 0, 0, 0, 0, 0, 0, 0, 0, 0, 0, 0, 0, 0, 0, 0, 0, 0, 0, 0, 0, 0, 0, 0, 0, 0, 0, 0, 0, 0, 0, 0, 0, 0, 0, 0, 0, 0, 0, 0, 0, 0, 0, 0, 0, 0, 0, 0, 0, 0, 0, 0, 0, 0, 0, 0, 0, 0, 0, 0, 0, 0, 0, 0, 0, 0, 0, 0, 0, 0, 0, 0, 0, 0, 0, 0, 0, 0, 0, 0, 0, 0, 0, 0, 0, 0, 0, 0, 0, 0, 0, 0, 0, 0, 0, 0, 0, 0, 0, 0, 0, 0, 0, 0, 0, 0, 0, 0, 0, 0, 0, 0, 0, 0, 0, 0, 0, 0, 0, 0, 0, 0, 0, 0, 0, 0, 0, 0, 0, 0, 0, 0, 0, 0, 0, 0, 0, 0, 0, 0, 0, 0, 0, 0, 0, 0, 0, 0, 0, 0, 0, 0, 0, 0, 0, 0, 0, 0, 0, 0, 0, 0, 0, 0, 0, 0, 0, 0, 0, 0, 0, 0, 0, 0, 0, 0, 0, 0, 0, 0, 0, 0, 0, 0, 0, 0, 0, 0, 0, 0, 0, 0, 0, 0, 0, 0, 0, 0, 0, 0, 0, 0, 0, 0, 0, 0, 0, 0, 0, 0, 0, 0, 0, 0, 0, 0, 0, 0, 0, 0, 0, 0, 0, 0, 0, 0, 0, 0, 0, 0, 0, 0, 0, 0, 0, 0, 0, 0, 0, 0, 0, 0, 0, 0, 0, 0, 0, 0, 0, 0, 0, 0, 0, 0, 0, 0, 0, 0, 0, 0, 0, 0, 0, 0, 0, 0, 0, 0, 0, 0, 0, 0, 0, 0, 0, 0, 0, 0, 0, 0, 0, 0, 0, 0, 0, 0, 0, 0, 0, 0, 0, 0, 0, 0, 0, 0, 0, 0, 0, 0, 0, 0, 0, 0, 0, 0, 0, 0, 0, 0, 0, 0, 0, 0, 0, 0, 0, 0, 0, 0, 0, 0, 0, 0, 0, 0, 0, 0, 0, 0, 0, 0, 0, 0, 0, 0, 0, 0, 0, 0, 0, 0, 0, 0, 0, 0, 0, 0, 0, 0, 0, 0, 0, 0, 0, 0, 0, 0, 0, 0, 0, 0, 0, 0, 0, 0, 0, 0, 0, 0, 0, 0, 0, 0, 0, 0, 0, 0, 0, 0, 0, 0, 0, 0, 0, 0, 0, 0, 0, 0, 0, 0, 0, 0, 0, 0, 0, 0, 0, 0, 0, 0, 0, 0, 0, 0, 0, 0, 0, 0, 0, 0, 0, 0, 0, 0, 0, 0, 0, 0, 0, 0, 0, 0, 0, 0, 0, 0, 0, 0, 0, 0, 0, 0, 0, 0, 0, 0, 0, 0, 0, 0, 0, 0, 0, 0, 0, 0, 0, 0, 0, 0, 0, 0, 0, 0, 0, 0, 0, 0, 0, 0, 0, 0, 0, 0, 0, 0, 0, 0, 0, 0, 0, 0, 0, 0, 0, 0, 0, 0, 0, 0, 0, 0, 0, 0, 0, 0, 0, 0, 0, 0, 0, 0, 0, 0, 0, 0, 0, 0, 0, 0, 0, 0, 0, 0, 0, 0, 0, 0, 0, 0, 0, 0, 0, 0, 0, 0, 0, 0, 0, 0, 0, 0, 0, 0, 0, 0, 0, 0, 0, 0, 0, 0, 0, 0, 0, 0, 0, 0, 0, 0, 0, 0, 0, 0, 0, 0, 0, 0, 0, 0, 0, 0, 0, 0, 0, 0, 0, 0, 0, 0, 0, 0, 0, 0, 0, 0, 0, 0, 0, 0, 0, 0, 0, 0, 0, 0, 0, 0, 0, 0, 0, 0, 0, 0, 0, 0, 0, 0, 0, 0, 0, 0, 0, 0, 0, 0, 0, 0, 0, 0, 0, 0, 0, 0, 0, 0, 0, 0, 0, 0, 0, 0, 0, 0, 0, 0, 0, 0, 0, 0, 0, 0, 0, 0, 0, 0, 0, 0, 0, 0, 0, 0, 0, 0, 0, 0, 0, 0, 0, 0, 0, 0, 0, 0, 0, 0, 0, 0, 0, 0, 0, 0, 0, 0, 0, 0, 0, 0, 0, 0, 0, 0, 0, 0, 0, 0, 0, 0, 0, 0, 0, 0, 0, 0, 0, 0, 0, 0, 0, 0, 0, 0, 0, 0, 0, 0, 0, 0, 0, 0, 0, 0, 0, 0, 0, 0, 0, 0, 0, 0, 0, 0, 0, 0, 0, 0, 0, 0, 0, 0, 0, 0, 0, 0, 0, 0, 0, 0, 0, 0, 0, 0, 0, 0, 0, 0, 0, 0, 0, 0, 0, 0, 0, 0, 0, 0, 0, 0, 0, 0, 0, 0, 0, 0, 0, 0, 0, 0, 0, 0, 0, 0, 0, 0, 0, 0, 0, 0, 0, 0, 0, 0, 0, 0, 0, 0, 0, 0, 0, 0, 0, 0, 0, 0, 0, 0, 0, 0, 0, 0, 0, 0, 0, 0, 0, 0, 0, 0, 0, 0, 0, 0, 0, 0, 0, 0, 0, 0, 0, 0, 0, 0, 0, 0, 0, 0, 0, 0, 0, 0, 0, 0, 0, 0, 0, 0, 0, 0, 0, 0, 0, 0, 0, 0, 0, 0, 0, 0, 0, 0, 0, 0, 0, 0, 0, 0, 0, 0, 0, 0, 0, 0, 0, 0, 0, 0, 0, 0, 0, 0, 0, 0, 0, 0, 0, 0, 0, 0, 0, 0, 0, 0, 0, 0, 0, 0, 0, 0, 0, 0, 0, 0, 0, 0, 0, 0, 0, 0, 0, 0, 0, 0, 0, 0, 0, 0, 0, 0, 0, 0, 0, 0, 0, 0, 0, 0, 0, 0, 0, 0, 0, 0, 0, 0, 0, 0, 0, 0, 0, 0, 0, 0, 0, 0, 0, 0, 0, 0, 0, 0, 0, 0, 0, 0, 0, 0, 0, 0, 0, 0, 0, 0, 0, 0, 0, 0, 0, 0, 0, 0, 0, 0, 0, 0, 0, 0, 0, 0, 0, 0, 0, 0, 0, 0, 0, 0, 0, 0, 0, 0, 0, 0, 0, 0, 0, 0, 0, 0, 0, 0, 0, 0, 0, 0, 0, 0, 0, 0, 0, 0, 0, 0, 0, 0, 0, 0, 0, 0, 0, 0, 0, 0, 0, 0, 0, 0, 0, 0, 0, 0, 0, 0, 0, 0, 0, 0, 0, 0, 0, 0, 0, 0, 0, 0, 0, 0, 0, 0, 0, 0, 0, 0, 0, 0, 0, 0, 0, 0, 0, 0, 0, 0, 0, 0, 0, 0, 0, 0, 0, 0, 0, 0, 0, 0, 0, 0, 0, 0, 0, 0, 0, 0, 0, 0, 0, 0, 0, 0, 0, 0, 0, 0, 0, 0, 0, 0, 0, 0, 0, 0, 0, 0, 0, 0, 0, 0, 0, 0, 0, 0, 0, 0, 0, 0, 0, 0, 0, 0, 0, 0, 0, 0, 0, 0, 0, 0, 0, 0, 0, 0, 0, 0, 0, 0, 0, 0, 0, 0, 0, 0, 0, 0, 0, 0, 0, 0, 0, 0, 0, 0, 0, 0, 0, 0, 0, 0, 0, 0, 0, 0, 0, 0, 0, 0, 0, 0, 0, 0, 0, 0, 0, 0, 0, 0, 0, 0, 0, 0, 0, 0, 0, 0, 0, 0, 0, 0, 0, 0, 0, 0, 0, 0, 0, 0, 0, 0, 0, 0, 0, 0, 0, 0, 0, 0, 0, 0, 0, 0, 0, 0, 0, 0, 0, 0, 0, 0, 0, 0, 0, 0, 0, 0, 0, 0, 0, 0, 0, 0, 0, 0, 0, 0, 0, 0, 0, 0, 0, 0, 0, 0, 0, 0, 0, 0, 0, 0, 0, 0, 0, 0, 0, 0, 0, 0, 0, 0, 0, 0, 0, 0, 0, 0, 0, 0, 0, 0, 0, 0, 0, 0, 0, 0, 0, 0, 0, 0, 0, 0, 0, 0, 0, 0, 0, 0, 0, 0, 0, 0, 0, 0, 0, 0, 0, 0, 0, 0, 0, 0, 0, 0, 0, 0, 0, 0, 0, 0, 0, 0, 0, 0, 0, 0, 0, 0, 0, 0, 0, 0, 0, 0, 0, 0, 0, 0, 0, 0, 0, 0, 0, 0, 0, 0, 0, 0, 0, 0, 0, 0, 0, 0, 0, 0, 0, 0, 0, 0, 0, 0, 0, 0, 0, 0, 0, 0, 0, 0, 0, 0, 0, 0, 0, 0, 0, 0, 0, 0, 0, 0, 0, 0, 0, 0, 0, 0, 0, 0, 0, 0, 0, 0, 0, 0, 0, 0, 0, 0, 0, 0, 0, 0, 0, 0, 0, 0, 0, 0, 0, 0, 0, 0, 0, 0, 0, 0, 0, 0, 0, 0, 0, 0, 0, 0, 0, 0, 0, 0, 0, 0, 0, 0, 0, 0, 0, 0, 0, 0, 0, 0, 0, 0, 0, 0, 0, 0, 0, 0, 0, 0, 0, 0, 0, 0, 0, 0, 0, 0, 0, 0, 0, 0, 0, 0, 0, 0, 0, 0, 0, 0, 0, 0, 0, 0, 0, 0, 0, 0, 0, 0, 0, 0, 0, 0, 0, 0, 0, 0, 0, 0, 0, 0, 0, 0, 0, 0, 0, 0, 0, 0, 0, 0, 0, 0, 0, 0, 0, 0, 0, 0, 0, 0, 0, 0, 0, 0, 0, 0, 0, 0, 0, 0, 0, 0, 0, 0, 0, 0, 0, 0, 0, 0, 0, 0, 0, 0, 0, 0, 0, 0, 0, 0, 0, 0, 0, 0, 0, 0, 0, 0, 0, 0, 0, 0, 0, 0, 0, 0, 0, 0, 0, 0, 0, 0, 0, 0, 0, 0, 0, 0, 0, 0, 0, 0, 0, 0, 0, 0, 0, 0, 0, 0, 0, 0, 0, 0, 0, 0, 0, 0, 0, 0, 0, 0, 0, 0, 0, 0, 0, 0, 0, 0, 0, 0, 0, 0, 0, 0, 0, 0, 0, 0, 0, 0, 0, 0, 0, 0, 0, 0, 0, 0, 0, 0, 0, 0, 0, 0, 0, 0, 0, 0, 0, 0, 0, 0, 0, 0, 0, 0, 0, 0, 0, 0, 0, 0, 0, 0, 0, 0, 0, 0, 0, 0, 0, 0, 0, 0, 0, 0, 0, 0, 0, 0, 0, 0, 0, 0, 0, 0, 0, 0, 0, 0, 0, 0, 0, 0, 0, 0, 0, 0, 0, 0, 0, 0, 0, 0, 0, 0, 0, 0, 0, 0, 0, 0, 0, 0, 0, 0, 0, 0, 0, 0, 0, 0, 0, 0, 0, 0, 0, 0, 0, 0, 0, 0, 0, 0, 0, 0, 0, 0, 0, 0, 0, 0, 0, 0, 0, 0, 0, 0, 0, 0, 0, 0, 0, 0, 0, 0, 0, 0, 0, 0, 0, 0, 0, 0, 0, 0, 0, 0, 0, 0, 0, 0, 0, 0, 0, 0, 0, 0, 0, 0, 0, 0, 0, 0, 0, 0, 0, 0, 0, 0, 0, 0, 0, 0, 0, 0, 0, 0, 0, 0, 0, 0, 0, 0, 0, 0, 0, 0, 0, 0, 0, 0, 0, 0, 0, 0, 0, 0, 0, 0, 0, 0, 0, 0, 0, 0, 0, 0, 0, 0, 0, 0, 0, 0, 0, 0, 0, 0, 0, 0, 0, 0, 0, 0, 0, 0, 0, 0, 0, 0, 0, 0, 0, 0, 0, 0, 0, 0, 0, 0, 0, 0, 0, 0, 0, 0, 0, 0, 0, 0, 0, 0, 0, 0, 0, 0, 0, 0, 0, 0, 0, 0, 0, 0, 0, 0, 0, 0, 0, 0, 0, 0, 0, 0, 0, 0, 0, 0, 0, 0, 0, 0, 0, 0, 0, 0, 0, 0, 0, 0, 0, 0, 0, 0, 0, 0, 0, 0, 0, 0, 0, 0, 0, 0, 0, 0, 0, 0, 0, 0, 0, 0, 0, 0, 0, 0, 0, 0, 0, 0, 0, 0, 0, 0, 0, 0, 0, 0, 0, 0, 0, 0, 0, 0, 0, 0, 0, 0, 0, 0, 0, 0, 0, 0, 0, 0, 0, 0, 0, 0, 0, 0, 0, 0, 0, 0, 0, 0, 0, 0, 0, 0, 0, 0, 0, 0, 0, 0, 0, 0, 0, 0, 0, 0, 0, 0, 0, 0, 0, 0, 0, 0, 0, 0, 0, 0, 0, 0, 0, 0, 0, 0, 0, 0, 0, 0, 0, 0, 0, 0, 0, 0, 0, 0, 0, 0, 0, 0, 0, 0, 0, 0, 0, 0, 0, 0, 0, 0, 0, 0, 0, 0, 0, 0, 0, 0, 0, 0, 0, 0, 0, 0, 0, 0, 0, 0, 0, 0, 0, 0, 0, 0, 0, 0, 0, 0, 0, 0, 0, 0, 0, 0, 0, 0, 0, 0, 0, 0, 0, 0, 0, 0, 0, 0, 0, 0, 0, 0, 0, 0, 0, 0, 0, 0, 0, 0, 0, 0, 0, 0, 0, 0, 0, 0, 0, 0, 0, 0, 0, 0, 0, 0, 0, 0, 0, 0, 0, 0, 0, 0, 0, 0, 0, 0, 0, 0, 0, 0, 0, 0, 0, 0, 0, 0, 0, 0, 0, 0, 0, 0, 0, 0, 0, 0, 0, 0, 0, 0, 0, 0, 0, 0, 0, 0, 0, 0, 0, 0, 0, 0, 0, 0, 0, 0, 0, 0, 0, 0, 0, 0, 0, 0, 0, 0, 0, 0, 0, 0, 0, 0, 0, 0, 0, 0, 0, 0, 0, 0, 0, 0, 0, 0, 0, 0, 0, 0, 0, 0, 0, 0, 0, 0, 0, 0, 0, 0, 0, 0, 0, 0, 0, 0, 0, 0, 0, 0, 0, 0, 0, 0, 0, 0, 0, 0, 0, 0, 0, 0, 0, 0, 0, 0, 0, 0, 0, 0, 0, 0, 0, 0, 0, 0, 0, 0, 0, 0, 0, 0, 0, 0, 0, 0, 0, 0, 0, 0, 0, 0, 0, 0, 0, 0, 0, 0, 0, 0, 0, 0, 0, 0, 0, 0, 0, 0, 0, 0, 0, 0, 0, 0, 0, 0, 0, 0, 0, 0, 0, 0, 0, 0, 0, 0, 0, 0, 0, 0, 0, 0, 0, 0, 0, 0, 0, 0, 0, 0, 0, 0, 0, 0, 0, 0, 0, 0, 0, 0, 0, 0, 0, 0, 0, 0, 0, 0, 0, 0, 0, 0, 0, 0, 0, 0, 0, 0, 0, 0, 0, 0, 0, 0, 0, 0, 0, 0, 0, 0, 0, 0, 0, 0, 0, 0, 0, 0, 0, 0, 0, 0, 0, 0, 0, 0, 0, 0, 0, 0, 0, 0, 0, 0, 0, 0, 0, 0, 0, 0, 0, 0, 0, 0, 0, 0, 0, 0, 0, 0, 0, 0, 0, 0, 0, 0, 0, 0, 0, 0, 0, 0, 0, 0, 0, 0, 0, 0, 0, 0, 0, 0, 0, 0, 0, 0, 0, 0, 0, 0, 0, 0, 0, 0, 0, 0, 0, 0, 0, 0, 0, 0, 0, 0, 0, 0, 0, 0, 0, 0, 0, 0, 0, 0, 0, 0, 0, 0, 0, 0, 0, 0, 0, 0, 0, 0, 0, 0, 0, 0, 0, 0, 0, 0, 0, 0, 0, 0, 0, 0, 0, 0, 0, 0, 0, 0, 0, 0, 0, 0, 0, 0, 0, 0, 0, 0, 0, 0, 0, 0, 0, 0, 0, 0, 0, 0, 0, 0, 0, 0, 0, 0, 0, 0, 0, 0, 0, 0, 0, 0, 0, 0, 0, 0, 0, 0, 0, 0, 0, 0, 0, 0, 0, 0, 0, 0, 0, 0, 0, 0, 0, 0, 0, 0, 0, 0, 0, 0, 0, 0, 0, 0, 0, 0, 0, 0, 0, 0, 0, 0, 0, 0, 0, 0, 0, 0, 0, 0, 0, 0, 0, 0, 0, 0, 0, 0, 0, 0, 0, 0, 0, 0, 0, 0, 0, 0, 0, 0, 0, 0, 0, 0, 0, 0, 0, 0, 0, 0, 0, 0, 0, 0, 0, 0, 0, 0, 0, 0, 0, 0, 0, 0, 0, 0, 0, 0, 0, 0, 0, 0, 0, 0, 0, 0, 0, 0, 0, 0, 0, 0, 0, 0, 0, 0, 0, 0, 0, 0, 0, 0, 0, 0, 0, 0, 0, 0, 0, 0, 0, 0, 0, 0, 0, 0, 0, 0, 0, 0, 0, 0, 0, 0, 0, 0, 0, 0, 0, 0, 0, 0, 0, 0, 0, 0, 0, 0, 0, 0, 0, 0, 0, 0, 0, 0, 0, 0, 0, 0, 0, 0, 0, 0, 0, 0, 0, 0, 0, 0, 0, 0, 0, 0, 0, 0, 0, 0, 0, 0, 0, 0, 0, 0, 0, 0, 0, 0, 0, 0, 0, 0, 0, 0, 0, 0, 0, 0, 0, 0, 0, 0, 0, 0, 0, 0, 0, 0, 0, 0, 0, 0, 0, 0, 0, 0, 0, 0, 0, 0, 0, 0, 0, 0, 0, 0, 0, 0, 0, 0, 0, 0, 0, 0, 0, 0, 0, 0, 0, 0, 0, 0, 0, 0, 0, 0, 0, 0, 0, 0, 0, 0, 0, 0, 0, 0, 0, 0, 0, 0, 0, 0, 0, 0, 0, 0, 0, 0, 0, 0, 0, 0, 0, 0, 0, 0, 0, 0, 0, 0, 0, 0, 0, 0, 0, 0, 0, 0, 0, 0, 0, 0, 0, 0, 0, 0, 0, 0, 0, 0, 0, 0, 0, 0, 0, 0, 0, 0, 0, 0, 0, 0, 0, 0, 0, 0, 0, 0, 0, 0, 0, 0, 0, 0, 0, 0, 0, 0, 0, 0, 0, 0, 0, 0, 0, 0, 0, 0, 0, 0, 0, 0, 0, 0, 0, 0, 0, 0, 0, 0, 0, 0, 0, 0, 0, 0, 0, 0, 0, 0, 0, 0, 0, 0, 0, 0, 0, 0, 0, 0, 0, 0, 0, 0, 0, 0, 0, 0, 0, 0, 0, 0, 0, 0, 0, 0, 0, 0, 0, 0, 0, 0, 0, 0, 0, 0, 0, 0, 0, 0, 0, 0, 0, 0, 0, 0, 0, 0, 0, 0, 0, 0, 0, 0, 0, 0, 0, 0, 0, 0, 0, 0, 0, 0, 0, 0, 0, 0, 0, 0, 0, 0, 0, 0, 0, 0, 0, 0, 0, 0, 0, 0, 0, 0, 0, 0, 0, 0, 0, 0, 0, 0, 0, 0, 0, 0, 0, 0, 0, 0, 0, 0, 0, 0, 0, 0, 0, 0, 0, 0, 0, 0, 0, 0, 0, 0, 0, 0, 0, 0, 0, 0, 0, 0, 0, 0, 0, 0, 0, 0, 0, 0, 0, 0, 0, 0, 0, 0, 0, 0, 0, 0, 0, 0, 0, 0, 0, 0, 0, 0, 0, 0, 0, 0, 0, 0, 0, 0, 0, 0, 0, 0, 0, 0, 0, 0, 0, 0, 0, 0, 0, 0, 0, 0, 0, 0, 0, 0, 0, 0, 0, 0, 0, 0, 0, 0, 0, 0, 0, 0, 0, 0, 0, 0, 0, 0, 0, 0, 0, 0, 0, 0, 0, 0, 0, 0, 0, 0, 0, 0, 0, 0, 0, 0, 0, 0, 0, 0, 0, 0, 0, 0, 0, 0, 0, 0, 0, 0, 0, 0, 0, 0, 0, 0, 0, 0, 0, 0, 0, 0, 0, 0, 0, 0, 0, 0, 0, 0, 0, 0, 0, 0, 0, 0, 0, 0, 0, 0, 0, 0, 0, 0, 0, 0, 0, 0, 0, 0, 0, 0, 0, 0, 0, 0, 0, 0, 0, 0, 0, 0, 0, 0, 0, 0, 0, 0, 0, 0, 0, 0, 0, 0, 0, 0, 0, 0, 0, 0, 0, 0, 0, 0, 0, 0, 0, 0, 0, 0, 0, 0, 0, 0, 0, 0, 0, 0, 0, 0, 0, 0, 0, 0, 0, 0, 0, 0, 0, 0, 0, 0, 0, 0, 0, 0, 0, 0, 0, 0, 0, 0, 0, 0, 0, 0, 0, 0, 0, 0, 0, 0, 0, 0, 0, 0, 0, 0, 0, 0, 0, 0, 0, 0, 0, 0, 0, 0, 0, 0, 0, 0, 0, 0, 0, 0, 0, 0, 0, 0, 0, 0, 0, 0, 0, 0, 0, 0, 0, 0, 0, 0, 0, 0, 0, 0, 0, 0, 0, 0, 0, 0, 0, 0, 0, 0, 0, 0, 0, 0, 0, 0, 0, 0, 0, 0, 0, 0, 0, 0, 0, 0, 0, 0, 0, 0, 0, 0, 0, 0, 0, 0, 0, 0, 0, 0, 0, 0, 0, 0, 0, 0, 0, 0, 0, 0, 0, 0, 0, 0, 0, 0, 0, 0, 0, 0, 0, 0, 0, 0, 0, 0, 0, 0, 0, 0, 0, 0, 0, 0, 0, 0, 0, 0, 0, 0, 0, 0, 0, 0, 0, 0, 0, 0, 0, 0, 0, 0, 0, 0, 0, 0, 0, 0, 0, 0, 0, 0, 0, 0, 0, 0, 0, 0, 0, 0, 0, 0, 0, 0, 0, 0, 0, 0, 0, 0, 0, 0, 0, 0, 0, 0, 0, 0, 0, 0, 0, 0, 0, 0, 0, 0, 0, 0, 0, 0, 0, 0, 0, 0, 0, 0, 0, 0, 0, 0, 0, 0, 0, 0, 0, 0, 0, 0, 0, 0, 0, 0, 0, 0, 0, 0, 0, 0, 0, 0, 0, 0, 0, 0, 0, 0, 0, 0, 0, 0, 0, 0, 0, 0, 0, 0, 0, 0, 0, 0, 0, 0, 0, 0, 0, 0, 0, 0, 0, 0, 0, 0, 0, 0, 0, 0, 0, 0, 0, 0, 0, 0]\n",
      "3568\n"
     ]
    }
   ],
   "source": [
    "# 예제 10-4\n",
    "\n",
    "# 사용자 ID 참조를 위한 딕셔너리\n",
    "id_user_dic = {}\n",
    "\n",
    "# 군집화의 입력으로 사용할 리스트\n",
    "user_product_vec_li = []\n",
    "\n",
    "# 군집화에서 사용할 총 고유 상품 가짓수. 즉, 원-핫 인코딩으로 변환할 피처의 가짓수\n",
    "all_product_count = len(id_product_dic)\n",
    "\n",
    "for user_code, product_per_user_set in user_product_dic.items():\n",
    "    # 고유 상품 가짓수를 길이로 하는 리스트 생성\n",
    "    user_product_vec = [0] * all_product_count\n",
    "    # id_user_dic의 길이를 이용하여 사용자 ID를 0부터 시작하는 user_id로 바꿉니다.\n",
    "    id_user_dic[len(id_user_dic)] = user_code\n",
    "    \n",
    "    # 사용자가 구매한 상품 코드를 키로 하여 user_product_vec에서의\n",
    "    # 해당 상품 코드의 상품 ID를 찾습니다. 그리고 값을 1로 세팅합니다.\n",
    "    for product_name in product_per_user_set:\n",
    "        user_product_vec[id_product_dic[product_name]] = 1\n",
    "    \n",
    "    # 한 사용자의 처리가 끝났으므로 이 사용자의 user_product_vec을 배열에 추가합니다.\n",
    "    # 이때 배열의 인덱스는 새로 정의한 user_id가 됩니다.\n",
    "    user_product_vec_li.append(user_product_vec)\n",
    "    \n",
    "print(id_user_dic[0])\n",
    "print(user_product_dic['17080'])\n",
    "print(user_product_vec_li[0])\n",
    "print(len(user_product_vec_li[0]))"
   ]
  },
  {
   "cell_type": "code",
   "execution_count": 5,
   "metadata": {},
   "outputs": [
    {
     "name": "stdout",
     "output_type": "stream",
     "text": [
      "# of train data: 2500, # of test_data: 1233\n",
      "[3 1 1 ..., 3 1 1]\n"
     ]
    }
   ],
   "source": [
    "# 예제 10-5\n",
    "\n",
    "from sklearn.cluster import KMeans\n",
    "import random\n",
    "\n",
    "# 학습용과 평가용 데이터로 나누기 위해 사용자-상품 벡터를 셔플합니다.\n",
    "random.shuffle(user_product_vec_li)\n",
    "\n",
    "# 학습용 데이터에 사용자 2500명을, 평가용 데이터에 나머지 사용자를 넣습니다.\n",
    "# 학습용 데이터에 있는 사용자 정보만을 가지고 클러스터를 만든 후\n",
    "# 평가용 데이터의 사용자가 어느 클러스터에 속하는지 알아봅니다.\n",
    "train_data = user_product_vec_li[:2500]\n",
    "test_data = user_product_vec_li[2500:]\n",
    "\n",
    "print(\"# of train data:% d, # of test_data: %d\" % (len(train_data),len(test_data)))\n",
    "# 학습 데이터를 군집화하여 4개의 클러스터를 생성한 후 그 결과를 km_predict에 저장합니다.\n",
    "km_predict = KMeans(n_clusters=4, init='k-means++', n_init=10, max_iter=20).fit(train_data)\n",
    "\n",
    "# km_predict 의 predict 함수를 이용하여 평가 데이터가 전 단계에서 만든 4개의 클러스터 중 어느 곳에\n",
    "# 속하는지 살펴봅니다.\n",
    "km_predict_result = km_predict.predict(test_data)\n",
    "print(km_predict_result)"
   ]
  },
  {
   "cell_type": "code",
   "execution_count": 6,
   "metadata": {
    "scrolled": true
   },
   "outputs": [
    {
     "name": "stdout",
     "output_type": "stream",
     "text": [
      "score for 2 clusters:0.345\n",
      "score for 3 clusters:0.331\n",
      "score for 4 clusters:0.196\n",
      "score for 5 clusters:0.193\n",
      "score for 6 clusters:0.207\n",
      "score for 7 clusters:0.157\n",
      "score for 8 clusters:0.144\n"
     ]
    }
   ],
   "source": [
    "#예제 10-6\n",
    "\n",
    "import numpy as np\n",
    "\n",
    "from sklearn.metrics import silhouette_score\n",
    "test_data = np.array(user_product_vec_li)\n",
    "\n",
    "for k in range(2,9):\n",
    "    km = KMeans(n_clusters=k).fit(test_data)\n",
    "    print(\"score for %d clusters:%.3f\" % (k, silhouette_score(test_data,km.labels_)))"
   ]
  },
  {
   "cell_type": "code",
   "execution_count": 7,
   "metadata": {},
   "outputs": [
    {
     "name": "stdout",
     "output_type": "stream",
     "text": [
      "208524.886686\n",
      "201135.189311\n",
      "198964.960511\n",
      "198615.493152\n",
      "197896.466999\n",
      "197772.327384\n",
      "197177.906462\n"
     ]
    },
    {
     "data": {
      "image/png": "[encoded data removed]",
      "text/plain": [
       "<matplotlib.figure.Figure at 0x104a7e860>"
      ]
     },
     "metadata": {},
     "output_type": "display_data"
    }
   ],
   "source": [
    "#예제 10-7\n",
    "\n",
    "# 클러스터 수를 키로 하고 inertia를 값으로 하는 딕셔너리입니다.\n",
    "ssw_dic={}\n",
    "\n",
    "# 클러스터 수 K를 1부터 8까지 바꾸어가며 급내제곱합의 평균값을 계산하고,\n",
    "# K를 키로 지정하여 딕셔너리에 넣습니다.\n",
    "for k in range(1, 8):\n",
    "    km= KMeans(n_clusters=k).fit(test_data)\n",
    "    ssw_dic[k] = km.inertia_\n",
    "    print(km.inertia_)\n",
    "\n",
    "plot_data_x = list(ssw_dic.keys())\n",
    "plot_data_y = list(ssw_dic.values())\n",
    "plt.xlabel(\"# of clusters\")\n",
    "plt.ylabel(\"within ss\")\n",
    "plt.plot(plot_data_x, plot_data_y, linestyle=\"-\", marker='o')\n",
    "plt.show()"
   ]
  },
  {
   "cell_type": "code",
   "execution_count": 7,
   "metadata": {},
   "outputs": [],
   "source": [
    "#예제 10-8\n",
    "\n",
    "def analyze_clusters_keywords(labels,product_id_name_dic,user_product_dic, id_user_dic):\n",
    "    #각 클러스터의 아이디와, 해당 아이디의 클러스터 들어있는 유저 수를 출력합니다. \n",
    "    print(Counter(labels))\n",
    "    cluster_item = {}\n",
    "\n",
    "    for i in range(len(labels)):\n",
    "        cluster_item.setdefault(labels[i], [])\n",
    "\n",
    "        # 각 사용자의 임시 ID i에 대해 사용자 코드를 찾은 후\n",
    "        # 그 사용자 코드와 연결된 구매상품의 ID를 참조한 후\n",
    "        # 그 ID를 이용해 상품명을 찾아\n",
    "        # 딕셔너리에 클러스터 ID를 키로, 상품명을 값으로 추가합니다.\n",
    "        for x in user_product_dic[id_user_dic[i]]:\n",
    "            cluster_item[labels[i]].extend([product_id_name_dic[x]])\n",
    "    \n",
    "    for cluster_id, product_name in cluster_item.items():\n",
    "        \n",
    "        # 각 클러스터안의 상품명을 join명령으로 합쳐 하나의 문자열로 만든 뒤\n",
    "        # 스페이스 혹은 탭으로 스플릿하여 키워드로 분해합니다. \n",
    "        product_name_keyword = (\" \").join(product_name).split()\n",
    "\n",
    "        # 클러스터의 아이디와, 그 아이디를 가지는 클러스터에 속하는 유저들이 구매한 상품들의 상품명안에\n",
    "        # 가장 자주 나타나는 단어 20개를 역순으로 출력합니다\n",
    "        print(\"cluster_id:\", cluster_id)\n",
    "        print(Counter(product_name_keyword).most_common(20))\n"
   ]
  },
  {
   "cell_type": "code",
   "execution_count": 15,
   "metadata": {},
   "outputs": [
    {
     "name": "stdout",
     "output_type": "stream",
     "text": [
      "Counter({0: 3202, 1: 531})\n",
      "cluster_id: 0\n",
      "[('OF', 12237), ('SET', 12235), ('HEART', 9828), ('VINTAGE', 8551), ('RED', 8011), ('BAG', 7715), ('CHRISTMAS', 6927), ('RETROSPOT', 6610), ('DESIGN', 5846), ('PINK', 5477), ('BOX', 4819), ('CAKE', 4714), ('METAL', 4675), ('3', 4565), ('HANGING', 4294), ('WHITE', 4216), ('HOLDER', 4191), ('T-LIGHT', 3972), ('BLUE', 3932), ('PACK', 3527)]\n",
      "cluster_id: 1\n",
      "[('OF', 10662), ('SET', 10419), ('BAG', 8752), ('VINTAGE', 7400), ('RED', 7309), ('HEART', 7058), ('RETROSPOT', 5707), ('DESIGN', 5558), ('CHRISTMAS', 5530), ('PINK', 4736), ('BOX', 4054), ('CAKE', 3972), ('METAL', 3781), ('BLUE', 3544), ('JUMBO', 3455), ('3', 3453), ('LUNCH', 3278), ('WHITE', 3113), ('SIGN', 3080), ('PACK', 3047)]\n"
     ]
    }
   ],
   "source": [
    "# 예제 10-8 실행\n",
    "\n",
    "\n",
    "km=KMeans(n_clusters=2, n_init=10,max_iter=20,random_state=None)\n",
    "test_data=np.array(user_product_vec_li)\n",
    "km.fit(test_data)\n",
    "analyze_clusters_keywords(km.labels_,product_id_name_dic,user_product_dic,id_user_dic)"
   ]
  },
  {
   "cell_type": "code",
   "execution_count": 16,
   "metadata": {},
   "outputs": [],
   "source": [
    "# 예제 10-9\n",
    "\n",
    "def analyze_clusters_keywords_bigram(labels,product_id_name_dic,user_product_dic, id_user_dic):\n",
    "    #각 클러스터의 아이디와, 해당 아이디의 클러스터 들어있는 유저 수를 출력합니다. \n",
    "    print(Counter(labels))\n",
    "    cluster_item = {}\n",
    "\n",
    "    for i in range(len(labels)):\n",
    "        cluster_item.setdefault(labels[i], [])\n",
    "\n",
    "        # 각 사용자의 임시 ID i에 대해 사용자 코드를 찾은 후\n",
    "        # 그 사용자 코드와 연결된 구매상품의 ID를 참조한 후\n",
    "        # 그 ID를 이용해 상품명을 찾아\n",
    "        # 딕셔너리에 클러스터 ID를 키로, 상품명을 값으로 추가합니다.\n",
    "        for x in user_product_dic[id_user_dic[i]]:\n",
    "            cluster_item[labels[i]].extend([product_id_name_dic[x]])\n",
    "\n",
    "    for cluster_id, product_name in cluster_item.items():\n",
    "        # 각 클러스터 안의 상품명을 join 명령으로 합쳐 하나의 문자열로 만든 뒤\n",
    "        # OF를 공백으로 리플레이스하고\n",
    "        # 스페이스 혹은 탭으로 스플릿하여 키워드로 분해한 뒤\n",
    "        # 연속되는 두 키워드를 합쳐서 하나의 키워드를 만듭니다.\n",
    "        bigram = []\n",
    "        product_name_keyword = (' ').join(product_name).replace(' OF ', ' ').split()\n",
    "        for i in range(0, len(product_name_keyword) - 1):\n",
    "            bigram.append(' '.join(product_name_keyword[i:i + 2]))\n",
    "        print('cluster_id:', cluster_id)\n",
    "        print(Counter(bigram).most_common(20))"
   ]
  },
  {
   "cell_type": "code",
   "execution_count": 17,
   "metadata": {},
   "outputs": [
    {
     "name": "stdout",
     "output_type": "stream",
     "text": [
      "Counter({0: 3202, 1: 531})\n",
      "cluster_id: 0\n",
      "[('RED RETROSPOT', 3436), ('T-LIGHT HOLDER', 2909), ('JUMBO BAG', 2522), ('METAL SIGN', 2520), ('HOT WATER', 2085), ('WATER BOTTLE', 2085), ('LUNCH BAG', 2051), ('SET 3', 1899), ('VINTAGE CHRISTMAS', 1871), ('CAKE CASES', 1724), ('SET 6', 1603), ('HANGING HEART', 1364), (\"50'S CHRISTMAS\", 1253), ('PACK 12', 1226), ('BAG VINTAGE', 1150), ('HOME SWEET', 1141), ('SWEET HOME', 1141), ('DOLLY GIRL', 1109), ('VINTAGE DOILY', 1077), ('SET 4', 1064)]\n",
      "cluster_id: 1\n",
      "[('RED RETROSPOT', 3042), ('JUMBO BAG', 2892), ('LUNCH BAG', 2611), ('METAL SIGN', 2314), ('CAKE CASES', 1879), ('T-LIGHT HOLDER', 1737), ('SET 3', 1650), ('HOT WATER', 1644), ('WATER BOTTLE', 1644), ('VINTAGE CHRISTMAS', 1549), ('DOLLY GIRL', 1484), ('BAG VINTAGE', 1295), ('SET 6', 1248), ('VINTAGE DOILY', 1168), ('SET 4', 1073), (\"50'S CHRISTMAS\", 1041), ('PACK 12', 1010), ('PINK POLKADOT', 896), ('HOME SWEET', 896), ('SWEET HOME', 896)]\n"
     ]
    }
   ],
   "source": [
    "# 예제 10-9 실행\n",
    "\n",
    "analyze_clusters_keywords_bigram(km.labels_,product_id_name_dic,user_product_dic,id_user_dic)"
   ]
  },
  {
   "cell_type": "code",
   "execution_count": 18,
   "metadata": {},
   "outputs": [],
   "source": [
    "# 예제 10-10\n",
    "\n",
    "def analyze_clusters_product_count(label, user_product_dic, id_user_dic):\n",
    "    product_len_dic = {}\n",
    "    for i in range(0, len(label)):\n",
    "        product_len_dic.setdefault(label[i], [])\n",
    "        # 클러스터의 ID를 키로 하는 딕셔너리에\n",
    "        # 그 클러스터에 속한 사용자가 구매한 고유 상품의 가짓수를 저장합니다.\n",
    "        product_len_dic[label[i]].append(len(user_product_dic[id_user_dic[i]]))\n",
    "    for k, v in product_len_dic.items():\n",
    "        print('cluster:', k)\n",
    "        print(stats.describe(v))\n"
   ]
  },
  {
   "cell_type": "code",
   "execution_count": 19,
   "metadata": {},
   "outputs": [
    {
     "name": "stdout",
     "output_type": "stream",
     "text": [
      "cluster: 0\n",
      "DescribeResult(nobs=3202, minmax=(2, 179), mean=37.313866333541533, variance=887.57187264442075, skewness=1.1316789381316052, kurtosis=0.9179638466598856)\n",
      "cluster: 1\n",
      "DescribeResult(nobs=531, minmax=(76, 580), mean=185.52165725047081, variance=6952.0952847955086, skewness=1.4931572051007902, kurtosis=2.561141327666464)\n"
     ]
    }
   ],
   "source": [
    "# 예제 10-10 실행\n",
    "analyze_clusters_product_count(km.labels_, user_product_dic, id_user_dic)"
   ]
  },
  {
   "cell_type": "code",
   "execution_count": 22,
   "metadata": {},
   "outputs": [
    {
     "data": {
      "image/png": "[encoded data removed]",
      "text/plain": [
       "<matplotlib.figure.Figure at 0x10732b668>"
      ]
     },
     "metadata": {},
     "output_type": "display_data"
    }
   ],
   "source": [
    "# 예제 10-11\n",
    "\n",
    "from scipy.cluster.hierarchy import linkage\n",
    "from scipy.cluster.hierarchy import dendrogram\n",
    "\n",
    "# scipy의 집괴적 군집화 함수\n",
    "# 이번에는 두 클러스터에 속한 모든 샘플 간의 거리 평균을\n",
    "# 클러스터를 집괴하는 기준으로 합니다.\n",
    "# 거리 함수로는 유클리드 함수를 씁니다.\n",
    "\n",
    "row_clusters = linkage(test_data, method='complete',metric='euclidean')\n",
    "# 사용자 ID를 사용자 코드로 변환합니다.\n",
    "tmp_label=[]\n",
    "for i in range(len(id_user_dic)):\n",
    "    tmp_label.append(id_user_dic[i])\n",
    "    \n",
    "# 플롯을 그립니다.\n",
    "row_denr = dendrogram(row_clusters,labels=tmp_label)\n",
    "plt.tight_layout()\n",
    "plt.ylabel('euclid')\n",
    "plt.show()"
   ]
  },
  {
   "cell_type": "code",
   "execution_count": 23,
   "metadata": {},
   "outputs": [
    {
     "data": {
      "text/plain": [
       "AgglomerativeClustering(affinity='euclidean', compute_full_tree='auto',\n",
       "            connectivity=None, linkage='ward', memory=None, n_clusters=2,\n",
       "            pooling_func=<function mean at 0x104ef9ea0>)"
      ]
     },
     "execution_count": 23,
     "metadata": {},
     "output_type": "execute_result"
    }
   ],
   "source": [
    "# 예제 10-13\n",
    "from sklearn.cluster import AgglomerativeClustering\n",
    "ward = AgglomerativeClustering(n_clusters=2, affinity='euclidean',linkage='ward')\n",
    "ward.fit(test_data)"
   ]
  },
  {
   "cell_type": "code",
   "execution_count": 25,
   "metadata": {
    "scrolled": true
   },
   "outputs": [
    {
     "name": "stdout",
     "output_type": "stream",
     "text": [
      "Counter({0: 3351, 1: 382})\n",
      "cluster_id: 0\n",
      "[('RED RETROSPOT', 4117), ('T-LIGHT HOLDER', 3423), ('JUMBO BAG', 3313), ('METAL SIGN', 3303), ('LUNCH BAG', 2666), ('HOT WATER', 2535), ('WATER BOTTLE', 2535), ('SET 3', 2282), ('VINTAGE CHRISTMAS', 2127), ('CAKE CASES', 2094), ('SET 6', 1826), ('HANGING HEART', 1619), (\"50'S CHRISTMAS\", 1473), ('BAG VINTAGE', 1467), ('HOME SWEET', 1451), ('SWEET HOME', 1451), ('DOLLY GIRL', 1403), ('PACK 12', 1392), ('VINTAGE DOILY', 1306), ('SET 4', 1259)]\n",
      "cluster_id: 1\n",
      "[('RED RETROSPOT', 2361), ('JUMBO BAG', 2101), ('LUNCH BAG', 1996), ('METAL SIGN', 1531), ('CAKE CASES', 1509), ('VINTAGE CHRISTMAS', 1293), ('SET 3', 1268), ('T-LIGHT HOLDER', 1223), ('HOT WATER', 1194), ('WATER BOTTLE', 1194), ('DOLLY GIRL', 1190), ('SET 6', 1026), ('BAG VINTAGE', 978), ('VINTAGE DOILY', 939), ('SET 4', 878), ('PACK 12', 844), (\"50'S CHRISTMAS\", 821), ('PINK POLKADOT', 709), ('SET 12', 708), ('PANTRY DESIGN', 671)]\n"
     ]
    }
   ],
   "source": [
    "# 예제 10-14\n",
    "analyze_clusters_keywords_bigram(ward.labels_,product_id_name_dic,user_product_dic,id_user_dic)"
   ]
  },
  {
   "cell_type": "code",
   "execution_count": null,
   "metadata": {},
   "outputs": [],
   "source": []
  }
 ],
 "metadata": {
  "kernelspec": {
   "display_name": "Python 3",
   "language": "python",
   "name": "python3"
  },
  "language_info": {
   "codemirror_mode": {
    "name": "ipython",
    "version": 3
   },
   "file_extension": ".py",
   "mimetype": "text/x-python",
   "name": "python",
   "nbconvert_exporter": "python",
   "pygments_lexer": "ipython3",
   "version": "3.6.2"
  }
 },
 "nbformat": 4,
 "nbformat_minor": 2
}
