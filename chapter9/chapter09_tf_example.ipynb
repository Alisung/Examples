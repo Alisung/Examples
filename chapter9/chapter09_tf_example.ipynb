{
 "cells": [
  {
   "cell_type": "code",
   "execution_count": 1,
   "metadata": {},
   "outputs": [
    {
     "name": "stderr",
     "output_type": "stream",
     "text": [
      "/Library/Frameworks/Python.framework/Versions/3.6/lib/python3.6/site-packages/h5py/__init__.py:34: FutureWarning: Conversion of the second argument of issubdtype from `float` to `np.floating` is deprecated. In future, it will be treated as `np.float64 == np.dtype(float).type`.\n",
      "  from ._conv import register_converters as _register_converters\n"
     ]
    }
   ],
   "source": [
    "import tensorflow as tf\n",
    "import numpy as np\n",
    "from matplotlib import pyplot as plt # 학습 결과 플롯용 패키지\n",
    "from sklearn import datasets"
   ]
  },
  {
   "cell_type": "code",
   "execution_count": 2,
   "metadata": {},
   "outputs": [
    {
     "data": {
      "text/plain": [
       "'1.9.0'"
      ]
     },
     "execution_count": 2,
     "metadata": {},
     "output_type": "execute_result"
    }
   ],
   "source": [
    "tf.__version__"
   ]
  },
  {
   "cell_type": "code",
   "execution_count": 3,
   "metadata": {
    "collapsed": true
   },
   "outputs": [],
   "source": [
    "boston = datasets.load_boston()\n",
    "boston_slice = [x[5] for x in boston.data] #6번째 피처만 사용\n",
    "\n",
    "# 텐서플로에서 사용할 크기로 조정 \n",
    "# reshape 함수로 데이터를 열이 1인 배열형으로 변환\n",
    "data_x=np.array(boston_slice).reshape(-1,1)\n",
    "data_y=boston.target.reshape(-1,1) "
   ]
  },
  {
   "cell_type": "code",
   "execution_count": 4,
   "metadata": {},
   "outputs": [
    {
     "name": "stdout",
     "output_type": "stream",
     "text": [
      "(506, 1) (506, 1)\n"
     ]
    }
   ],
   "source": [
    "print(data_x.shape, data_y.shape)"
   ]
  },
  {
   "cell_type": "code",
   "execution_count": 5,
   "metadata": {
    "collapsed": true
   },
   "outputs": [],
   "source": [
    "# 입력데이터의 샘플 수를 얻습니다\n",
    "n_sample = data_x.shape[0] \n",
    "# 샘플수피처수의 플레이스홀더. 피처를 하나만 사용하므로 피처수는 1이 됩니다.\n",
    "X = tf.placeholder(tf.float32, shape=(n_sample,1), name='X') \n",
    "# 샘플수타깃수의 플레이스홀더. 타깃수가 집값 하나이므로 1이 됩니다.\n",
    "y = tf.placeholder(tf.float32, shape=(n_sample,1), name='y')\n",
    "# 기울기. 피처수타깃수의 크기를 가집니다. 피처 수와 타깃수이 1이므로 기울기는 11로 정의됩니다. \n",
    "W = tf.Variable(tf.zeros((1,1)),name='weights')\n",
    "# 편향. 타깃수타깃수의 크기를 가집니다. 타깃수가 1이므로 기울기는 11로 정의됩니다. \n",
    "b = tf.Variable(tf.zeros((1,1)), name='bias')"
   ]
  },
  {
   "cell_type": "code",
   "execution_count": 6,
   "metadata": {
    "collapsed": true
   },
   "outputs": [],
   "source": [
    "y_pred = tf.matmul(X,W) + b # 모델\n",
    "loss = tf.reduce_mean(tf.square(y_pred - y)) # 손실 함수\n",
    "optimizer = tf.train.GradientDescentOptimizer(learning_rate=0.001) #최적화 클래스\n",
    "train_op = optimizer.minimize(loss)  # 최적화 함수. 손실 함수의 최솟값을 찾습니다.\n",
    "summary_op = tf.summary.scalar('loss',loss) # 시각화를 위한 서머리 함수. 손실 함수의 변화를 기록합니다.\n"
   ]
  },
  {
   "cell_type": "code",
   "execution_count": 7,
   "metadata": {},
   "outputs": [
    {
     "data": {
      "image/png": "[encoded data removed]",
      "text/plain": [
       "<matplotlib.figure.Figure at 0x122539f98>"
      ]
     },
     "metadata": {},
     "output_type": "display_data"
    },
    {
     "name": "stdout",
     "output_type": "stream",
     "text": [
      "loss =  592.1469\n",
      "loss =  155.3169\n",
      "loss =  76.3167\n",
      "loss =  62.0246\n",
      "loss =  59.4341\n",
      "loss =  58.9596\n",
      "loss =  58.8678\n",
      "loss =  58.8452\n",
      "loss =  58.8351\n",
      "loss =  58.8273\n"
     ]
    },
    {
     "data": {
      "image/png": "[encoded data removed]",
      "text/plain": [
       "<matplotlib.figure.Figure at 0x122684dd8>"
      ]
     },
     "metadata": {},
     "output_type": "display_data"
    }
   ],
   "source": [
    "def plot_graph(y, fout):\n",
    "    \"\"\"데이터 플롯을 위한 함수. 입력값(피처값), 출력값(집값)을 플롯합니다\"\"\"\n",
    "\n",
    "    plt.scatter(data_x.reshape(1, -1)[0], boston.target.reshape(1, -1)[0])\n",
    "    plt.plot(data_x.reshape(1, -1)[0], y.reshape(1, -1)[0])\n",
    "    plt.show() # 이미지를 주피터 노트북에 표시합니다\n",
    "    plt.savefig(fout)\n",
    "    plt.clf()\n",
    "\n",
    "with tf.Session() as sess:\n",
    "    # 코드 안에서 세션을 정의합니다.\n",
    "    sess.run(tf.global_variables_initializer())  # 변수초기화\n",
    "\n",
    "    # 텐서보드용 서머리 라이터를 위에서 지정한 디렉터리와 그래프를 이용하여 생성\n",
    "    summary_writer = tf.summary.FileWriter( './graphs', sess.graph)\n",
    "\n",
    "    # 학습 전의 예측된 기울기 상태\n",
    "    y_pred_before = sess.run(y_pred, {X: data_x})\n",
    "\n",
    "    plot_graph(y_pred_before,'before.png')\n",
    "    \n",
    "\n",
    "    # 최적화 함수를 이용하여 기울기를 100번 업데이트\n",
    "    for i in range(100):\n",
    "        # loss 연산, summary_op 연산, train_op 연산을 수행합니다.\n",
    "        # loss 연산의 결과를 loss_t, summary_op연산의 결과를 summary에 받습니다.\n",
    "        loss_t, summary, _ = sess.run([loss, summary_op, train_op],feed_dict={X: data_x, y: data_y})\n",
    "       \n",
    "        # 각 업데이트마다 생성된 summary_op 함수의 결과를 서머리 라이터에 적습니다.\n",
    "        summary_writer.add_summary(summary, i)\n",
    "\n",
    "        if i%10 == 0:\n",
    "            print('loss = % 4.4f' % loss_t.mean())  # 10회 학습 후의 평균 손실.\n",
    "            y_pred_after = sess.run(y_pred, {X: data_x})\n",
    "\n",
    "    y_pred_after = sess.run(y_pred, {X: data_x})\n",
    "    plot_graph(y_pred_after,'after.png')\n"
   ]
  },
  {
   "cell_type": "code",
   "execution_count": null,
   "metadata": {},
   "outputs": [],
   "source": []
  },
  {
   "cell_type": "code",
   "execution_count": null,
   "metadata": {
    "collapsed": true
   },
   "outputs": [],
   "source": []
  }
 ],
 "metadata": {
  "kernelspec": {
   "display_name": "tensorflow",
   "language": "python",
   "name": "tensorflow"
  },
  "language_info": {
   "codemirror_mode": {
    "name": "ipython",
    "version": 3
   },
   "file_extension": ".py",
   "mimetype": "text/x-python",
   "name": "python",
   "nbconvert_exporter": "python",
   "pygments_lexer": "ipython3",
   "version": "3.6.1"
  }
 },
 "nbformat": 4,
 "nbformat_minor": 2
}
