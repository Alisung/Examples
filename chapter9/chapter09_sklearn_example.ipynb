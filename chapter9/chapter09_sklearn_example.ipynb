{
 "cells": [
  {
   "cell_type": "markdown",
   "metadata": {},
   "source": [
    "# 예제 9-2"
   ]
  },
  {
   "cell_type": "code",
   "execution_count": 1,
   "metadata": {
    "collapsed": true
   },
   "outputs": [],
   "source": [
    "import sklearn\n",
    "import numpy as np\n",
    "from sklearn import datasets # 보스턴 데이터셋\n",
    "from sklearn.linear_model import LinearRegression # 사이킷런 선형회귀함수"
   ]
  },
  {
   "cell_type": "code",
   "execution_count": 2,
   "metadata": {},
   "outputs": [
    {
     "data": {
      "text/plain": [
       "'0.20.2'"
      ]
     },
     "execution_count": 2,
     "metadata": {},
     "output_type": "execute_result"
    }
   ],
   "source": [
    "sklearn.__version__ # 사이킷런의 버전을 확인합니다."
   ]
  },
  {
   "cell_type": "code",
   "execution_count": 3,
   "metadata": {},
   "outputs": [],
   "source": [
    "boston = datasets.load_boston() # 보스턴 데이터셋을 로드합니다"
   ]
  },
  {
   "cell_type": "code",
   "execution_count": 4,
   "metadata": {},
   "outputs": [
    {
     "name": "stdout",
     "output_type": "stream",
     "text": [
      "dict_keys(['data', 'target', 'feature_names', 'DESCR', 'filename'])\n"
     ]
    }
   ],
   "source": [
    "print(boston.keys()) \n",
    "# 데이터셋의 키값을 출력합니다. \n",
    "#data는 피쳐값, feature_name은 피쳐이름, target은 집값, DESCR은 데이터 출처, filename은 파일패스를 나타냅니다. "
   ]
  },
  {
   "cell_type": "code",
   "execution_count": 5,
   "metadata": {},
   "outputs": [
    {
     "name": "stderr",
     "output_type": "stream",
     "text": [
      "/Library/Frameworks/Python.framework/Versions/3.6/lib/python3.6/site-packages/scipy/linalg/basic.py:1018: RuntimeWarning: internal gelsd driver lwork query error, required iwork dimension not returned. This is likely the result of LAPACK bug 0038, fixed in LAPACK 3.2.2 (released July 21, 2010). Falling back to 'gelss' driver.\n",
      "  warnings.warn(mesg, RuntimeWarning)\n"
     ]
    },
    {
     "data": {
      "text/plain": [
       "LinearRegression(copy_X=True, fit_intercept=True, n_jobs=None,\n",
       "         normalize=False)"
      ]
     },
     "execution_count": 5,
     "metadata": {},
     "output_type": "execute_result"
    }
   ],
   "source": [
    "lr = LinearRegression() # 선형회귀모델 객체를 생성합니다 \n",
    "lr.fit(boston.data, boston.target) #데이터로 lr모델을 학습시킵니다"
   ]
  },
  {
   "cell_type": "code",
   "execution_count": 6,
   "metadata": {},
   "outputs": [
    {
     "name": "stdout",
     "output_type": "stream",
     "text": [
      "예측값: [ 30.56759672] 실제값: 34.7\n"
     ]
    }
   ],
   "source": [
    "predicted_price = lr.predict(boston.data[2].reshape(1,-1)) #3번째 데이터의 집값을 예측합니다. \n",
    "print('예측값:', predicted_price, '실제값:',boston.target[2])"
   ]
  },
  {
   "cell_type": "code",
   "execution_count": 7,
   "metadata": {},
   "outputs": [
    {
     "name": "stdout",
     "output_type": "stream",
     "text": [
      "[('CRIM', -0.10801135783679496), ('ZN', 0.046420458366878317), ('INDUS', 0.020558626367067345), ('CHAS', 2.686733819344878), ('NOX', -17.766611228299929), ('RM', 3.8098652068092265), ('AGE', 0.00069222464034051495), ('DIS', -1.4755668456002586), ('RAD', 0.30604947898517054), ('TAX', -0.012334593916574), ('PTRATIO', -0.9527472317072897), ('B', 0.0093116832737939904), ('LSTAT', -0.52475837785549317)]\n"
     ]
    }
   ],
   "source": [
    "print([x for x in zip(boston.feature_names, lr.coef_)]) \n",
    "# 피쳐명을 키로, 각 피쳐의 계수값을 밸류로 하는 딕셔너리를 만든 후 출력합니다. \n",
    "# 사이킷런 0.20에서 데이터포인트 [445, 0]의 값이 바뀌어서 계수가 책과는 약간 다릅니다.\n",
    "# https://scikit-learn.org/stable/modules/generated/sklearn.datasets.load_boston.html"
   ]
  },
  {
   "cell_type": "code",
   "execution_count": null,
   "metadata": {
    "collapsed": true
   },
   "outputs": [],
   "source": []
  }
 ],
 "metadata": {
  "kernelspec": {
   "display_name": "Python 3",
   "language": "python",
   "name": "python3"
  },
  "language_info": {
   "codemirror_mode": {
    "name": "ipython",
    "version": 3
   },
   "file_extension": ".py",
   "mimetype": "text/x-python",
   "name": "python",
   "nbconvert_exporter": "python",
   "pygments_lexer": "ipython3",
   "version": "3.6.1"
  }
 },
 "nbformat": 4,
 "nbformat_minor": 2
}
