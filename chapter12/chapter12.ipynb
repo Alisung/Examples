{
 "cells": [
  {
   "cell_type": "code",
   "execution_count": 1,
   "metadata": {},
   "outputs": [],
   "source": [
    "import codecs\n",
    "import numpy as np\n",
    "from scipy import stats\n",
    "from matplotlib import pyplot as plt\n",
    "from sklearn.metrics import mean_squared_error"
   ]
  },
  {
   "cell_type": "code",
   "execution_count": 2,
   "metadata": {},
   "outputs": [],
   "source": [
    "# 예제 12-1\n",
    "\n",
    "def read_data(fin, delim):\n",
    "    info_li = []\n",
    "\n",
    "    for line in codecs.open(fin,\"r\",encoding=\"latin-1\"):\n",
    "        line_items = line.strip().split(delim)\n",
    "        #print(line_items)\n",
    "\n",
    "        key = int(line_items[0])\n",
    "        if (len(info_li)+1)!=key:\n",
    "            print('errors at data_id')\n",
    "            exit(0)\n",
    "        info_li.append(line_items[1:])\n",
    "        \n",
    "    print('rows in %s: %d'%(fin, len(info_li)))\n",
    "\n",
    "\n",
    "    return(info_li)"
   ]
  },
  {
   "cell_type": "code",
   "execution_count": 3,
   "metadata": {},
   "outputs": [],
   "source": [
    "fin_user= \"u.user\"\n",
    "fin_movie= \"u.item\"\n",
    "fin_rating= \"u.data\""
   ]
  },
  {
   "cell_type": "code",
   "execution_count": 4,
   "metadata": {},
   "outputs": [
    {
     "name": "stdout",
     "output_type": "stream",
     "text": [
      "rows in u.user: 943\n",
      "rows in u.item: 1682\n"
     ]
    }
   ],
   "source": [
    "user_info_li = read_data(fin_user,'|')\n",
    "movie_info_li = read_data(fin_movie,'|')"
   ]
  },
  {
   "cell_type": "code",
   "execution_count": 5,
   "metadata": {},
   "outputs": [],
   "source": [
    "# 예제 12-2 무비렌즈의 별점 정보 파일을 이용하여 유틸리티 행렬 만들기\n",
    "def read_rating_data(fin):\n",
    "\n",
    "    Q = np.zeros((len(user_info_li), len(movie_info_li)), dtype=np.float64)\n",
    "\n",
    "    for line in open(fin):\n",
    "        user, movie, rating, date = line.strip().split(\"\\t\")\n",
    "        user_index = int(user)-1\n",
    "        movie_index = int(movie)-1\n",
    "\n",
    "        Q[user_index,movie_index]= float(rating)\n",
    "\n",
    "    return(Q)"
   ]
  },
  {
   "cell_type": "code",
   "execution_count": 6,
   "metadata": {},
   "outputs": [],
   "source": [
    "R=read_rating_data(fin_rating)"
   ]
  },
  {
   "cell_type": "code",
   "execution_count": 7,
   "metadata": {},
   "outputs": [],
   "source": [
    "# 예제 12-3 사용자의 평균 별점 기초 통계량 구하기\n",
    "user_mean_li=[]\n",
    "for i in range(0,R.shape[0]):\n",
    "    user_rating = [x for x in R[i] if x>0.0]\n",
    "    user_mean_li.append(stats.describe(user_rating).mean)"
   ]
  },
  {
   "cell_type": "code",
   "execution_count": 8,
   "metadata": {},
   "outputs": [
    {
     "data": {
      "text/plain": [
       "DescribeResult(nobs=943, minmax=(1.4919540229885058, 4.8695652173913047), mean=3.5881911071848003, variance=0.19823286521146211, skewness=-0.44416521432016465, kurtosis=0.9286813229088393)"
      ]
     },
     "execution_count": 8,
     "metadata": {},
     "output_type": "execute_result"
    }
   ],
   "source": [
    "stats.describe(user_mean_li)"
   ]
  },
  {
   "cell_type": "code",
   "execution_count": 9,
   "metadata": {},
   "outputs": [
    {
     "name": "stderr",
     "output_type": "stream",
     "text": [
      "/Library/Frameworks/Python.framework/Versions/3.6/lib/python3.6/site-packages/numpy/core/fromnumeric.py:3146: RuntimeWarning: Degrees of freedom <= 0 for slice\n",
      "  **kwargs)\n",
      "/Library/Frameworks/Python.framework/Versions/3.6/lib/python3.6/site-packages/numpy/core/_methods.py:127: RuntimeWarning: invalid value encountered in double_scalars\n",
      "  ret = ret.dtype.type(ret / rcount)\n"
     ]
    }
   ],
   "source": [
    "# 예제 12-4 각 영화의 평균 별점 기초 통계량 구하기\n",
    "movie_mean_li=[]\n",
    "for i in range(0,R.shape[1]):\n",
    "    R_T = R.T\n",
    "    movie_rating = [x for x in R_T[i] if x>0.0]\n",
    "    movie_mean_li.append(stats.describe(movie_rating).mean)"
   ]
  },
  {
   "cell_type": "code",
   "execution_count": 10,
   "metadata": {},
   "outputs": [
    {
     "data": {
      "text/plain": [
       "DescribeResult(nobs=1682, minmax=(1.0, 5.0), mean=3.0760445083251788, variance=0.61099475027975136, skewness=-0.6991282361538707, kurtosis=0.4442028070725441)"
      ]
     },
     "execution_count": 10,
     "metadata": {},
     "output_type": "execute_result"
    }
   ],
   "source": [
    "stats.describe(movie_mean_li)"
   ]
  },
  {
   "cell_type": "code",
   "execution_count": 11,
   "metadata": {},
   "outputs": [
    {
     "name": "stdout",
     "output_type": "stream",
     "text": [
      "1682\n"
     ]
    }
   ],
   "source": [
    "# 추가된 파일. 영화 플롯을 읽어옵니다. 예제 12-5, 12-6을 대체합니다.\n",
    "from sklearn.feature_extraction.text import TfidfVectorizer\n",
    "\n",
    "movie_plot_li =[]\n",
    "for line in open('ml-100k-plot.txt'):\n",
    "    try:\n",
    "        ml_id, plot =line.strip().split('|',1)\n",
    "        movie_plot_li.append(plot)\n",
    "            \n",
    "    except ValueError:\n",
    "        movie_plot_li.append('')\n",
    "print(len(movie_plot_li))\n",
    "\n",
    "vectorizer = TfidfVectorizer(min_df=3, stop_words='english')\n",
    "X = vectorizer.fit_transform(movie_plot_li[:100])\n",
    "# TF-IDF로 변환한 키워드의 리스트\n",
    "# X의 0번 열에 해당하는 키워드가 feature_names[0]의 키워드입니다.\n",
    "feature_names = vectorizer.get_feature_names()"
   ]
  },
  {
   "cell_type": "code",
   "execution_count": 12,
   "metadata": {
    "scrolled": true
   },
   "outputs": [
    {
     "name": "stdout",
     "output_type": "stream",
     "text": [
      "['27', 'able', 'accident', 'action', 'affair', 'agent', 'alive', 'america', 'american', 'amy', 'army', 'arrival', 'asked', 'away', 'based', 'beautiful', 'befriends', 'begins', 'believes', 'bloody', 'blue', 'bond', 'boss', 'boy', 'breaks', 'bring', 'brother', 'brothers', 'brought', 'bruce', 'called', 'calls', 'car', 'case', 'charles', 'charlie', 'christmas', 'chronicles', 'city', 'class', 'come', 'comedy', 'comes', 'commit', 'company', 'continue', 'convenience', 'convicted', 'country', 'crime', 'criminal', 'cruel', 'dark', 'daughter', 'day', 'days', 'deadly', 'dealing', 'death', 'decide', 'decides', 'desert', 'despite', 'discovers', 'does', 'doesn', 'dr', 'dreams', 'drug', 'earlier', 'edward', 'efforts', 'emotional', 'emotions', 'empire', 'end', 'ends', 'escape', 'especially', 'eve', 'eventually', 'ex', 'extremely', 'face', 'fall', 'falls', 'family', 'famous', 'fate', 'father', 'favorite', 'fbi', 'fellow', 'fight', 'figure', 'filled', 'film', 'finding', 'finds', 'forces', 'france', 'free', 'friend', 'friends', 'fun', 'future', 'game', 'gets', 'girl', 'goes', 'good', 'group', 'happens', 'hasn', 'having', 'head', 'help', 'high', 'hollywood', 'home', 'hostage', 'house', 'huge', 'human', 'husband', 'identity', 'including', 'information', 'instead', 'intentions', 'investigation', 'jack', 'jackson', 'james', 'job', 'john', 'joins', 'just', 'justice', 'kevin', 'kill', 'killed', 'killer', 'killers', 'killing', 'kills', 'land', 'later', 'law', 'leader', 'leads', 'learn', 'leave', 'life', 'like', 'little', 'lives', 'living', 'local', 'long', 'looks', 'loses', 'lost', 'love', 'lover', 'low', 'major', 'make', 'makes', 'making', 'man', 'marriage', 'married', 'marries', 'master', 'media', 'meet', 'meets', 'men', 'mission', 'money', 'morning', 'mother', 'moves', 'movie', 'movies', 'murder', 'murdered', 'murderer', 'named', 'national', 'need', 'needs', 'new', 'night', 'old', 'older', 'order', 'orders', 'outcast', 'owner', 'parents', 'partner', 'past', 'pay', 'people', 'person', 'peter', 'pick', 'piece', 'place', 'plan', 'plans', 'play', 'police', 'political', 'powerful', 'present', 'president', 'problem', 'problems', 'promising', 'prostitute', 'question', 'quickly', 'real', 'really', 'relationship', 'rescue', 'rest', 'return', 'revolves', 'richard', 'right', 'robert', 'room', 'rules', 'sam', 'samuel', 'school', 'secret', 'sees', 'senator', 'sent', 'serial', 'series', 'set', 'simple', 'sister', 'situation', 'small', 'social', 'solve', 'son', 'soon', 'start', 'stay', 'stolen', 'stop', 'store', 'story', 'strange', 'strong', 'stumbles', 'successful', 'suddenly', 'survive', 'taken', 'takes', 'taking', 'teaches', 'team', 'things', 'thinking', 'time', 'times', 'told', 'town', 'tried', 'tries', 'trip', 'true', 'try', 'trying', 'turns', 'type', 'uncle', 'underground', 'vacation', 'victim', 'violence', 'visit', 'wants', 'war', 'way', 'ways', 'white', 'wife', 'william', 'winning', 'wins', 'woman', 'women', 'work', 'working', 'works', 'world', 'wrong', 'year', 'years', 'york', 'young']\n"
     ]
    }
   ],
   "source": [
    "print(feature_names)"
   ]
  },
  {
   "cell_type": "code",
   "execution_count": 13,
   "metadata": {
    "scrolled": false
   },
   "outputs": [],
   "source": [
    "# 예제 12-7 사용자 정의 토크나이저 만들기\n",
    "from nltk.tokenize import RegexpTokenizer\n",
    "from nltk.stem import WordNetLemmatizer\n",
    "class LemmaTokenizer(object):\n",
    "    def __init__(self):\n",
    "        self.tokenizer = RegexpTokenizer('(?u)\\w\\w+')\n",
    "        # TfidfVectorizer와 같은 방식으로 키워드를 가져옵니다.\n",
    "        self.wnl = WordNetLemmatizer()\n",
    "    def __call__(self, doc):\n",
    "        return([self.wnl.lemmatize(t) for t in self.tokenizer.tokenize(doc)])\n",
    "\n",
    "# 사이킷런에 위에서 정의한 토크나이저를 입력으로 넣습니다.\n",
    "vectorizer2 =TfidfVectorizer(min_df=3,tokenizer=LemmaTokenizer(),stop_words='english')\n",
    "X = vectorizer2.fit_transform(movie_plot_li[:100])\n",
    "feature_names = vectorizer2.get_feature_names()"
   ]
  },
  {
   "cell_type": "code",
   "execution_count": 14,
   "metadata": {
    "scrolled": true
   },
   "outputs": [
    {
     "name": "stdout",
     "output_type": "stream",
     "text": [
      "['27', 'able', 'accident', 'action', 'affair', 'agent', 'alive', 'america', 'american', 'amy', 'army', 'arrival', 'asked', 'attempt', 'away', 'based', 'beautiful', 'befriends', 'begin', 'belief', 'bloody', 'blue', 'body', 'bond', 'bos', 'boy', 'break', 'bring', 'brother', 'brought', 'bruce', 'called', 'car', 'case', 'cause', 'challenge', 'character', 'charles', 'charlie', 'christmas', 'chronicle', 'city', 'class', 'close', 'come', 'comedy', 'commit', 'company', 'contact', 'continue', 'convenience', 'convicted', 'cop', 'country', 'crime', 'criminal', 'cruel', 'dark', 'daughter', 'day', 'deadly', 'dealing', 'death', 'decide', 'decides', 'desert', 'despite', 'detective', 'director', 'discovers', 'doe', 'doesn', 'dollar', 'dr', 'dream', 'drug', 'earlier', 'edward', 'effort', 'emotion', 'emotional', 'empire', 'encounter', 'end', 'escape', 'especially', 'eve', 'eventually', 'ex', 'extremely', 'face', 'fall', 'family', 'famous', 'fate', 'father', 'favorite', 'fbi', 'fellow', 'fight', 'figure', 'filled', 'film', 'finding', 'force', 'france', 'free', 'friend', 'fun', 'future', 'gain', 'game', 'girl', 'girlfriend', 'good', 'grade', 'group', 'ha', 'hand', 'happens', 'hasn', 'having', 'head', 'help', 'high', 'hollywood', 'home', 'hope', 'hostage', 'house', 'huge', 'human', 'husband', 'identity', 'incident', 'including', 'information', 'instead', 'intention', 'investigation', 'jack', 'jackson', 'james', 'job', 'john', 'join', 'just', 'justice', 'kevin', 'kid', 'kill', 'killed', 'killer', 'killing', 'know', 'land', 'later', 'law', 'lead', 'leader', 'learn', 'leave', 'life', 'like', 'little', 'living', 'local', 'long', 'look', 'loses', 'lost', 'love', 'lover', 'low', 'major', 'make', 'making', 'man', 'marriage', 'married', 'marries', 'master', 'medium', 'meet', 'men', 'mind', 'mission', 'money', 'morning', 'mother', 'movie', 'murder', 'murdered', 'murderer', 'named', 'national', 'need', 'new', 'night', 'offer', 'old', 'older', 'order', 'outcast', 'owner', 'parent', 'partner', 'past', 'pay', 'people', 'perfect', 'person', 'peter', 'pick', 'piece', 'place', 'plan', 'play', 'police', 'political', 'powerful', 'present', 'president', 'problem', 'promising', 'prostitute', 'queen', 'question', 'quickly', 'read', 'real', 'really', 'reason', 'rebel', 'refuse', 'relationship', 'rescue', 'rest', 'return', 'revolves', 'richard', 'right', 'robert', 'role', 'room', 'rule', 'run', 'sam', 'samuel', 'save', 'school', 'secret', 'senator', 'sent', 'serial', 'series', 'set', 'simple', 'sister', 'situation', 'small', 'social', 'solve', 'son', 'soon', 'start', 'state', 'stay', 'stolen', 'stop', 'store', 'story', 'strange', 'strong', 'student', 'stumble', 'successful', 'suddenly', 'survive', 'taken', 'taking', 'teach', 'team', 'term', 'thing', 'think', 'thinking', 'time', 'told', 'town', 'trick', 'tried', 'trip', 'true', 'try', 'trying', 'turn', 'type', 'u', 'uncle', 'underground', 'vacation', 'victim', 'violence', 'visit', 'wa', 'want', 'war', 'way', 'wedding', 'week', 'white', 'wife', 'william', 'win', 'winning', 'woman', 'work', 'working', 'world', 'wrong', 'year', 'york', 'young']\n"
     ]
    }
   ],
   "source": [
    "print(feature_names)"
   ]
  },
  {
   "cell_type": "code",
   "execution_count": 15,
   "metadata": {},
   "outputs": [],
   "source": [
    "# 예제 12-8 비슷한 영화 추천하기\n",
    "from sklearn.metrics.pairwise import cosine_similarity\n",
    "movie_sim = cosine_similarity(X)\n",
    "def similar_recommend_by_movie_id(movielens_id):\n",
    "    movie_index = movielens_id-1\n",
    "    # enumerate 함수로 [(리스트 인덱스 0, 유사도 0), (리스트 인덱스 1, 유사도 1)...]의\n",
    "    # 리스트를 만듭니다. 그 후 각 튜플의 두 번째 항목, 즉 유사도를 이용하여 내림차순 정렬합니다.\n",
    "    # 이렇게 만든 리스트의 가장 앞 튜플의 첫 번째 항목이 영화 ID가 됩니다.\n",
    "    similar_movies = sorted(list(enumerate(movie_sim[movie_index])),key=lambda x:x[1], reverse=True)\n",
    "    recommended=1\n",
    "    print(\"-----recommendation for movie %d------\"%(movielens_id))\n",
    "    for movie_info in similar_movies[1:6]:\n",
    "        # 주어진 영화와 가장 비슷한 영화는 그 영화 자신이므로 출력 시 제외합니다.\n",
    "        movie_title= movie_info_li[movie_info[0]]\n",
    "        print('rank %d recommendation:%s'%(recommended,movie_title[0]))\n",
    "        recommended+=1"
   ]
  },
  {
   "cell_type": "code",
   "execution_count": 16,
   "metadata": {},
   "outputs": [
    {
     "name": "stdout",
     "output_type": "stream",
     "text": [
      "-----recommendation for movie 1------\n",
      "rank 1 recommendation:Shawshank Redemption, The (1994)\n",
      "rank 2 recommendation:Aladdin (1992)\n",
      "rank 3 recommendation:What's Eating Gilbert Grape (1993)\n",
      "rank 4 recommendation:Searching for Bobby Fischer (1993)\n",
      "rank 5 recommendation:Firm, The (1993)\n"
     ]
    }
   ],
   "source": [
    "similar_recommend_by_movie_id(1)"
   ]
  },
  {
   "cell_type": "code",
   "execution_count": 41,
   "metadata": {},
   "outputs": [],
   "source": [
    "# 예제 12-9 교대 최소제곱법 구현하기\n",
    "\n",
    "from sklearn.metrics import mean_squared_error\n",
    "import numpy as np\n",
    "def compute_ALS(R, n_iter, lambda_, k):\n",
    "    '''임의의 사용자 요인 행렬 X와 임의의 영화 요인 행렬 Y를 생성한 뒤\n",
    "    교대 최소제곱법을 이용하여 유틸리티 행렬 R을 근사합니다.\n",
    "    R(ndarray) : 유틸리티 행렬\n",
    "    lambda_(float) : 정규화 파라미터입니다.\n",
    "    n_iter(fint) : X와 Y의 갱신 횟수입니다.\n",
    "    '''\n",
    "    m, n =R.shape\n",
    "    X = np.random.rand(m, k)\n",
    "    Y = np.random.rand(k, n)\n",
    "\n",
    "    # 각 갱신 때마다 계산한 에러를 저장합니다.\n",
    "    errors =[]\n",
    "    for i in range(0, n_iter):\n",
    "        # [식 6-4]를 구현했습니다.\n",
    "        # 넘파이의 eye 함수는 파라미터 a를 받아 a x a 크기의 단위행렬을 만듭니다.\n",
    "        X = np.linalg.solve(np.dot(Y, Y.T) + lambda_ * np.eye(k), np.dot(Y, R.T)).T\n",
    "        Y = np.linalg.solve(np.dot(X.T, X) + lambda_ * np.eye(k), np.dot(X.T, R))\n",
    "        \n",
    "        errors.append(mean_squared_error(R, np.dot(X, Y)))\n",
    "        \n",
    "        if i % 10 == 0:\n",
    "            print('iteration %d is completed'%(i))\n",
    "            #print(mean_squared_error(R, np.dot(X, Y)))\n",
    "        \n",
    "    R_hat = np.dot(X, Y)\n",
    "    print('Error of rated movies: %.5f'%(mean_squared_error(R, np.dot(X, Y))))\n",
    "    return(R_hat, errors)"
   ]
  },
  {
   "cell_type": "code",
   "execution_count": 42,
   "metadata": {},
   "outputs": [
    {
     "name": "stdout",
     "output_type": "stream",
     "text": [
      "iteration 0 is completed\n",
      "iteration 10 is completed\n",
      "Error of rated movies: 0.24658\n"
     ]
    }
   ],
   "source": [
    "R_hat, errors = compute_ALS(R, 20, 0.1,100)"
   ]
  },
  {
   "cell_type": "code",
   "execution_count": 19,
   "metadata": {},
   "outputs": [],
   "source": [
    "W = R>0.0\n",
    "W[W == True] = 1\n",
    "W[W == False] = 0\n",
    "W = W.astype(np.float64, copy=False)"
   ]
  },
  {
   "cell_type": "code",
   "execution_count": 32,
   "metadata": {},
   "outputs": [],
   "source": [
    "# 예제 12-10 가중치 교대 최소제곱법 구현하기 \n",
    "\n",
    "def compute_wALS(R,W, n_iter, lambda_, k):\n",
    "    m,n = R.shape\n",
    "    X = np.random.rand(m, k)\n",
    "    Y = np.random.rand(k, n)\n",
    "    weighted_errors = []\n",
    "    \n",
    "    # [예제 12-9]와 달리 가중치 행렬을 넣어서 계산합니다.\n",
    "    for ii in range(n_iter):\n",
    "        # 각 사용자와 영화의 가중치 행렬을 이용하여 X와 Y를 갱신합니다.\n",
    "        for u, Wu in enumerate(W):\n",
    "            X[u,:] = np.linalg.solve(np.dot(Y, np.dot(np.diag(Wu), Y.T)) +lambda_ * np.eye(k), np.dot(Y, np.dot(np.diag(Wu),R[u,:].T))).T\n",
    "        for i, Wi in enumerate(W.T):\n",
    "            Y[:, i] = np.linalg.solve(np.dot(X.T, np.dot(np.diag(Wi), X)) + lambda_ * np.eye(k), np.dot(X.T, np.dot(np.diag(Wi), R[:, i])))\n",
    "\n",
    "        # 가중치 행렬을 mean_squared_error 함수의 인자로 사용합니다.\n",
    "        weighted_errors.append(mean_squared_error(R, np.dot(X, Y),sample_weight=W))\n",
    "        if ii % 10 == 0:\n",
    "            print('iteration %d is completed'%(ii))\n",
    "    \n",
    "    R_hat = np.dot(X, Y)\n",
    "    print('Error of rated movies: %.5f'%(mean_squared_error(R, np.dot(X, Y), sample_weight=W)))\n",
    "    return(R_hat, errors)"
   ]
  },
  {
   "cell_type": "code",
   "execution_count": 33,
   "metadata": {
    "scrolled": true
   },
   "outputs": [
    {
     "name": "stdout",
     "output_type": "stream",
     "text": [
      "iteration 0 is completed\n",
      "iteration 10 is completed\n",
      "Error of rated movies: 0.00066\n"
     ]
    }
   ],
   "source": [
    "R_hat, errors =compute_wALS(R, W, 20, 0.1,100)"
   ]
  },
  {
   "cell_type": "code",
   "execution_count": 20,
   "metadata": {},
   "outputs": [],
   "source": [
    "# 예제 12-11 경사하강법 구현하기\n",
    "\n",
    "def compute_GD(R,n_iter, lambda_, learning_rate, k):\n",
    "    m,n =R.shape\n",
    "    errors=[]\n",
    "        \n",
    "    X = np.random.rand(m, k)\n",
    "    Y = np.random.rand(k, n)\n",
    "    \n",
    "    # 입력받은 반복 횟수만큼 갱신을 반복합니다.\n",
    "    for ii in range(n_iter):\n",
    "        for u in range(m):\n",
    "            for i in range(n):\n",
    "                if R[u,i]>0:\n",
    "                    # 새로 정의된 갱신식. 각 사용자 및 상품의 행렬에 대해 하나씩 계산합니다.\n",
    "                    e_ui = R[u,i]-np.dot(X[u, :], Y[:,i])\n",
    "\n",
    "                    X[u,:] = X[u,:] + learning_rate * (e_ui* Y[:,i] - lambda_ * X[u,:])\n",
    "                    Y[:,i] = Y[:,i] + learning_rate * (e_ui * X[u,:] - lambda_ * Y[:,i])  \n",
    "                    \n",
    "        errors.append(mean_squared_error(R, np.dot(X, Y)))\n",
    "        \n",
    "        if ii % 10 == 0:\n",
    "            print('iteration %d is completed'%(ii))\n",
    "\n",
    "    R_hat = np.dot(X, Y)\n",
    "    print('Error of rated movies: %.5f'%(mean_squared_error(R, R_hat)))\n",
    "\n",
    "    return(R_hat, errors)\n",
    "\n"
   ]
  },
  {
   "cell_type": "code",
   "execution_count": 21,
   "metadata": {},
   "outputs": [
    {
     "name": "stdout",
     "output_type": "stream",
     "text": [
      "iteration 0 is completed\n",
      "iteration 10 is completed\n",
      "Error of rated movies: 25.38837\n"
     ]
    }
   ],
   "source": [
    "R_hat, errors= compute_GD(R,20, 1, 0.001, 100)"
   ]
  },
  {
   "cell_type": "code",
   "execution_count": 22,
   "metadata": {},
   "outputs": [
    {
     "name": "stdout",
     "output_type": "stream",
     "text": [
      "iteration 0 is completed\n",
      "iteration 10 is completed\n",
      "iteration 20 is completed\n",
      "iteration 30 is completed\n",
      "Error of rated movies: 17.67668\n"
     ]
    }
   ],
   "source": [
    "R_hat, errors= compute_GD(R,40, 1, 0.001, 100)"
   ]
  },
  {
   "cell_type": "code",
   "execution_count": 23,
   "metadata": {},
   "outputs": [],
   "source": [
    "# 예제 12-12 학습-평가 데이터 나누기\n",
    "def train_test_split(R, n_test):\n",
    "    train = R.copy()\n",
    "    test = np.zeros(R.shape)\n",
    "    for user in range(R.shape[0]):\n",
    "        test_index = np.random.choice(R[user, :].nonzero()[0], size=n_test, replace=False)\n",
    "        train[user, test_index] = 0.\n",
    "        test[user, test_index] = R[user, test_index]\n",
    "\n",
    "    return (train, test)"
   ]
  },
  {
   "cell_type": "code",
   "execution_count": 24,
   "metadata": {},
   "outputs": [],
   "source": [
    "# 예제 12-13\n",
    "def get_test_mse(true,pred):\n",
    "    # 학습-평가 데이터에서 0이 아닌 값만 이용해서 에러를 계산합니다.\n",
    "    # true가 평가 데이터, pred가 학습 데이터입니다.\n",
    "    # 평가 데이터가 0이 아닌 항들의 인덱스에 해당하는 점수만 추출합니다.\n",
    "    pred = pred[true.nonzero()].flatten()\n",
    "    true = true[true.nonzero()].flatten()\n",
    "    return mean_squared_error(true,pred)"
   ]
  },
  {
   "cell_type": "code",
   "execution_count": 25,
   "metadata": {},
   "outputs": [],
   "source": [
    "from sklearn.metrics import mean_squared_error\n",
    "import numpy as np\n",
    "\n",
    "def compute_ALS(R, test, n_iter, lambda_, k):\n",
    "    '''임의의 사용자 요인 행렬 X와 임의의 영화 요인 행렬 Y를 생성하고 교대 최소제곱법을 이용하여\n",
    "    유틸리티 행렬 R을 근사합니다. 그후 test행렬을 이용하여 평가합니다.\n",
    "    R(ndarray) : 유틸리티 행렬\n",
    "    test: 평가행렬\n",
    "    lambda_(float) : 정규화 파라미터\n",
    "    n_iter(fint) : X와 Y의 갱신 횟수\n",
    "    '''\n",
    "    m,n =R.shape\n",
    "    X = np.random.rand(m, k)\n",
    "    Y = np.random.rand(k, n)\n",
    "    errors =[]\n",
    "    # 갱신 시마다 계산한 에러를 저장합니다.\n",
    "    for i in range(0, n_iter):\n",
    "        X = np.linalg.solve(np.dot(Y, Y.T) + lambda_ * np.eye(k),np.dot(Y, R.T)).T\n",
    "        Y = np.linalg.solve(np.dot(X.T, X) + lambda_ * np.eye(k), np.dot(X.T, R))\n",
    "        errors.append(get_test_mse(test,np.dot(X, Y)))\n",
    "\n",
    "        if i % 10 == 0:\n",
    "            print('iteration %d is completed'%(i))\n",
    "    \n",
    "    R_hat = np.dot(X, Y)\n",
    "    print('Error of rated movies: %.5f'%(get_test_mse(test,R_hat)))\n",
    "    return(R_hat, errors)"
   ]
  },
  {
   "cell_type": "code",
   "execution_count": 26,
   "metadata": {},
   "outputs": [],
   "source": [
    "train,test = train_test_split(R, 10)"
   ]
  },
  {
   "cell_type": "code",
   "execution_count": 27,
   "metadata": {},
   "outputs": [
    {
     "name": "stdout",
     "output_type": "stream",
     "text": [
      "iteration 0 is completed\n",
      "iteration 10 is completed\n",
      "Error of rated movies: 2.39322\n"
     ]
    }
   ],
   "source": [
    "R_hat, train_errors = compute_ALS(train, train,20, 0.1,100)"
   ]
  },
  {
   "cell_type": "code",
   "execution_count": 28,
   "metadata": {},
   "outputs": [
    {
     "name": "stdout",
     "output_type": "stream",
     "text": [
      "iteration 0 is completed\n",
      "iteration 10 is completed\n",
      "Error of rated movies: 10.01291\n"
     ]
    }
   ],
   "source": [
    "R_hat, test_errors = compute_ALS(train, test,20, 0.1,100)"
   ]
  },
  {
   "cell_type": "code",
   "execution_count": 29,
   "metadata": {},
   "outputs": [
    {
     "data": {
      "image/png": "[encoded data removed]",
      "text/plain": [
       "<matplotlib.figure.Figure at 0x110060550>"
      ]
     },
     "metadata": {},
     "output_type": "display_data"
    }
   ],
   "source": [
    "# 예제 12-14 반복 횟수에 따른 학습-평가 에러 변화 플롯하기\n",
    "from matplotlib import pyplot as plt\n",
    "\n",
    "x=range(0,20)\n",
    "\n",
    "plt.xlim(0,20) # x축의 표시 범위를 0-20까지 설정(20은 반복 횟수입니다)\n",
    "plt.ylim(0,15) # y축의 표시 범위를 0-15까지 설정\n",
    "plt.xlabel('iteration')\n",
    "plt.ylabel('MSE')\n",
    "plt.xticks(x, range(0,20)) # x축에 표시할 숫자를 0부터 19까지의 정수로 함\n",
    "# 평가 에러를 점선으로 표시\n",
    "test_plot, = plt.plot(x,test_errors, '--', label='test_error')\n",
    "# 학습 에러를 실선으로 표시\n",
    "train_plot, = plt.plot(x,train_errors, label='train_error')\n",
    "plt.legend(handles=[train_plot, test_plot]) # 범례 생성\n",
    "plt.show()"
   ]
  },
  {
   "cell_type": "code",
   "execution_count": 36,
   "metadata": {},
   "outputs": [
    {
     "name": "stdout",
     "output_type": "stream",
     "text": [
      "iteration 0 is completed\n",
      "iteration 10 is completed\n",
      "Error of rated movies: 5.47677\n",
      "iteration 0 is completed\n",
      "iteration 10 is completed\n",
      "Error of rated movies: 9.05617\n"
     ]
    }
   ],
   "source": [
    "R_hat, train_errors = compute_ALS(train, train,20, 50,100)\n",
    "R_hat, test_errors = compute_ALS(train, test,20, 50,100)"
   ]
  },
  {
   "cell_type": "code",
   "execution_count": 37,
   "metadata": {},
   "outputs": [
    {
     "data": {
      "image/png": "[encoded data removed]",
      "text/plain": [
       "<matplotlib.figure.Figure at 0x10caee5c0>"
      ]
     },
     "metadata": {},
     "output_type": "display_data"
    }
   ],
   "source": [
    "plt.clf()\n",
    "from matplotlib import pyplot as plt\n",
    "\n",
    "x=range(0,20)\n",
    "\n",
    "plt.xlim(0,20) # x축의 표시 범위를 0-20까지 설정(20은 반복 횟수입니다)\n",
    "plt.ylim(0,15) # y축의 표시 범위를 0-15까지 설정\n",
    "plt.xlabel('iteration')\n",
    "plt.ylabel('MSE')\n",
    "plt.xticks(x, range(0,20)) # x축에 표시할 숫자를 0부터 19까지의 정수로 함\n",
    "# 평가 에러를 점선으로 표시\n",
    "test_plot, = plt.plot(x,test_errors, '--', label='test_error')\n",
    "# 학습 에러를 실선으로 표시\n",
    "train_plot, = plt.plot(x,train_errors, label='train_error')\n",
    "plt.legend(handles=[train_plot, test_plot]) # 범례 생성\n",
    "plt.show()"
   ]
  },
  {
   "cell_type": "code",
   "execution_count": 38,
   "metadata": {},
   "outputs": [],
   "source": [
    "# 예제 12-15 사용자에게 영화 추천하기\n",
    "# X, Y를 임의의 수로 초기화하므로 추천 결과가 그때그때 달라질 수 있습니다.\n",
    "\n",
    "# 근사 행렬의 가장 작은 값을 0으로 만들기 위해 전체 항의 값에서 작은 값을 뺍니다.\n",
    "R_hat -= np.min(R_hat)\n",
    "\n",
    "# 근사 행렬의 가장 큰 값을 5로 만들고자 5를 가장 큰 예측값(np.max(R_hat))으로 나눈 값을 곱합니다.\n",
    "# 예를 들어 가장 큰 예측값이 3일 경우 3을 5로 만들기 위해서는 5/3을 곱하면 됩니다.\n",
    "# 위에서 구한 값을 예측 행렬의 모든 항에 곱합니다.\n",
    "R_hat *= float(5) / np.max(R_hat)\n",
    "\n",
    "def recommend_by_user(user):\n",
    "    # 사용자의 ID를 입력으로 받아 그 사용자가 보지 않은 영화를 추천합니다.\n",
    "    user_index = user-1\n",
    "    user_seen_movies = sorted(list(enumerate(R_hat[user_index])),key=lambda x:x[1], reverse=True)\n",
    "    recommended=1\n",
    "    print(\"-----recommendation for user %d------\"%(user))\n",
    "    for movie_info in user_seen_movies:\n",
    "        if W[user][movie_info[0]]==0:\n",
    "            movie_title= movie_info_li[int(movie_info[0]+1)]\n",
    "            movie_score= movie_info[1]\n",
    "            print(\"rank %d recommendation:%s(%.3f)\"%(recommended,movie_title[0], movie_score))\n",
    "            recommended+=1\n",
    "        if recommended==6:\n",
    "            break"
   ]
  },
  {
   "cell_type": "code",
   "execution_count": 43,
   "metadata": {},
   "outputs": [
    {
     "name": "stdout",
     "output_type": "stream",
     "text": [
      "-----recommendation for user 1------\n",
      "rank 1 recommendation:So I Married an Axe Murderer (1993)(6.426)\n",
      "rank 2 recommendation:Wrong Trousers, The (1993)(6.422)\n",
      "rank 3 recommendation:French Twist (Gazon maudit) (1995)(6.259)\n",
      "rank 4 recommendation:Nikita (La Femme Nikita) (1990)(6.203)\n",
      "rank 5 recommendation:Full Monty, The (1997)(5.728)\n"
     ]
    }
   ],
   "source": [
    "recommend_by_user(1)"
   ]
  },
  {
   "cell_type": "code",
   "execution_count": null,
   "metadata": {},
   "outputs": [],
   "source": []
  }
 ],
 "metadata": {
  "kernelspec": {
   "display_name": "Python 3",
   "language": "python",
   "name": "python3"
  },
  "language_info": {
   "codemirror_mode": {
    "name": "ipython",
    "version": 3
   },
   "file_extension": ".py",
   "mimetype": "text/x-python",
   "name": "python",
   "nbconvert_exporter": "python",
   "pygments_lexer": "ipython3",
   "version": "3.6.2"
  }
 },
 "nbformat": 4,
 "nbformat_minor": 1
}
